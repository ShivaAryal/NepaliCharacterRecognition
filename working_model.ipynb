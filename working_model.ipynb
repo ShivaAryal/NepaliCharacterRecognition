{
 "cells": [
  {
   "cell_type": "code",
   "execution_count": null,
   "metadata": {},
   "outputs": [],
   "source": [
    "import numpy as np\n",
    "import keras\n",
    "# from keras.layers import Activation \n",
    "from keras.layers.core import Dense, Dropout\n",
    "from keras import backend as K   #we are using tensorflow commands through K now\n",
    "from keras.models import Sequential\n",
    "from keras.layers.core import Activation\n",
    "from keras.optimizers import Adam\n",
    "from keras.metrics import categorical_crossentropy #metrics judge the performance of a model\n",
    "from keras.preprocessing.image import ImageDataGenerator\n",
    "from keras.layers.convolutional import *\n",
    "from matplotlib import pyplot as plt\n",
    "from sklearn.metrics import confusion_matrix\n",
    "import itertools\n",
    "import matplotlib.pyplot as plt\n",
    "from keras.layers import Flatten\n",
    "%matplotlib inline\n"
   ]
  },
  {
   "cell_type": "code",
   "execution_count": 21,
   "metadata": {},
   "outputs": [],
   "source": [
    "train_path = 'train'\n",
    "valid_path = 'valid'\n",
    "test_path = 'valid1'"
   ]
  },
  {
   "cell_type": "code",
   "execution_count": 39,
   "metadata": {},
   "outputs": [
    {
     "name": "stdout",
     "output_type": "stream",
     "text": [
      "Found 13452 images belonging to 48 classes.\n",
      "Found 480 images belonging to 48 classes.\n",
      "Found 13452 images belonging to 48 classes.\n"
     ]
    }
   ],
   "source": [
    "train_batches = ImageDataGenerator().flow_from_directory(train_path, target_size=(150,150), classes=['1', '2', '3','4','5','6','7','8','9','10','11', '12', '13','14','15','16','17','18','19','20','21', '22', '23','24','25','26','27','28','29','30','31', '32', '33','34','35','36','37','38','39','40','41','42','43','44','45','46','47','48'], batch_size=32)\n",
    "valid_batches = ImageDataGenerator().flow_from_directory(valid_path, target_size=(150,150), classes=['1', '2', '3','4','5','6','7','8','9','10','11', '12', '13','14','15','16','17','18','19','20','21', '22', '23','24','25','26','27','28','29','30','31', '32', '33','34','35','36','37','38','39','40','41','42','43','44','45','46','47','48'], batch_size=32)\n",
    "test_batches = ImageDataGenerator().flow_from_directory(test_path, target_size=(150,150), classes=['1', '2', '3','4','5','6','7','8','9','10','11', '12', '13','14','15','16','17','18','19','20','21', '22', '23','24','25','26','27','28','29','30','31', '32', '33','34','35','36','37','38','39','40','41','42','43','44','45','46','47','48'], batch_size=20)\n"
   ]
  },
  {
   "cell_type": "code",
   "execution_count": null,
   "metadata": {},
   "outputs": [],
   "source": []
  },
  {
   "cell_type": "code",
   "execution_count": 40,
   "metadata": {},
   "outputs": [],
   "source": [
    "#plot images with labels within jupyter noteboook\n",
    "def plots(ims, figsize=(12,6), rows=1, interp=False, titles=None ):\n",
    "    if type(ims[0]) is np.ndarray:\n",
    "        ims = np.array(ims).astype(np.uint8)\n",
    "        if (ims.shape[-1] != 3):\n",
    "            ims = ims.transpose((0,2,3,1))\n",
    "    f= plt.figure(figsize=figsize)\n",
    "    cols = len(ims)//rows if len(ims) % 2 == 0 else len(ims)//row +1 \n",
    "    for i in range(len(ims)):\n",
    "        sp= f.add_subplot(rows, cols, i+1)\n",
    "        sp.axis('Off')\n",
    "        if titles is not None:\n",
    "            sp.set_title(titles[i], fontsize=16)\n",
    "            plt.imshow(ims[i], interpolation=None if interp else 'none')\n",
    "            "
   ]
  },
  {
   "cell_type": "code",
   "execution_count": 41,
   "metadata": {},
   "outputs": [
    {
     "name": "stdout",
     "output_type": "stream",
     "text": [
      "[[0. 0. 0. 0. 0. 0. 0. 0. 0. 0. 0. 0. 0. 0. 0. 0. 0. 0. 0. 0. 0. 1. 0. 0.\n",
      "  0. 0. 0. 0. 0. 0. 0. 0. 0. 0. 0. 0. 0. 0. 0. 0. 0. 0. 0. 0. 0. 0. 0. 0.]\n",
      " [0. 0. 0. 0. 0. 0. 0. 0. 0. 0. 0. 0. 0. 0. 0. 1. 0. 0. 0. 0. 0. 0. 0. 0.\n",
      "  0. 0. 0. 0. 0. 0. 0. 0. 0. 0. 0. 0. 0. 0. 0. 0. 0. 0. 0. 0. 0. 0. 0. 0.]\n",
      " [0. 0. 0. 0. 0. 0. 0. 0. 0. 0. 0. 0. 0. 0. 0. 0. 0. 0. 0. 0. 0. 0. 0. 0.\n",
      "  0. 0. 0. 0. 0. 0. 0. 0. 0. 0. 0. 0. 0. 0. 1. 0. 0. 0. 0. 0. 0. 0. 0. 0.]\n",
      " [0. 0. 0. 0. 0. 0. 0. 0. 0. 0. 0. 0. 0. 0. 0. 0. 0. 0. 1. 0. 0. 0. 0. 0.\n",
      "  0. 0. 0. 0. 0. 0. 0. 0. 0. 0. 0. 0. 0. 0. 0. 0. 0. 0. 0. 0. 0. 0. 0. 0.]\n",
      " [0. 0. 0. 0. 0. 0. 0. 0. 0. 0. 0. 0. 0. 0. 1. 0. 0. 0. 0. 0. 0. 0. 0. 0.\n",
      "  0. 0. 0. 0. 0. 0. 0. 0. 0. 0. 0. 0. 0. 0. 0. 0. 0. 0. 0. 0. 0. 0. 0. 0.]\n",
      " [0. 0. 0. 0. 0. 0. 0. 0. 0. 0. 0. 0. 0. 0. 0. 0. 0. 0. 0. 0. 0. 0. 0. 0.\n",
      "  0. 0. 0. 0. 0. 0. 0. 0. 0. 1. 0. 0. 0. 0. 0. 0. 0. 0. 0. 0. 0. 0. 0. 0.]\n",
      " [0. 1. 0. 0. 0. 0. 0. 0. 0. 0. 0. 0. 0. 0. 0. 0. 0. 0. 0. 0. 0. 0. 0. 0.\n",
      "  0. 0. 0. 0. 0. 0. 0. 0. 0. 0. 0. 0. 0. 0. 0. 0. 0. 0. 0. 0. 0. 0. 0. 0.]\n",
      " [1. 0. 0. 0. 0. 0. 0. 0. 0. 0. 0. 0. 0. 0. 0. 0. 0. 0. 0. 0. 0. 0. 0. 0.\n",
      "  0. 0. 0. 0. 0. 0. 0. 0. 0. 0. 0. 0. 0. 0. 0. 0. 0. 0. 0. 0. 0. 0. 0. 0.]\n",
      " [0. 0. 0. 0. 0. 0. 0. 0. 0. 0. 0. 0. 0. 0. 0. 0. 0. 0. 0. 0. 0. 0. 0. 0.\n",
      "  0. 0. 0. 1. 0. 0. 0. 0. 0. 0. 0. 0. 0. 0. 0. 0. 0. 0. 0. 0. 0. 0. 0. 0.]\n",
      " [0. 0. 0. 0. 0. 0. 0. 0. 0. 0. 0. 0. 1. 0. 0. 0. 0. 0. 0. 0. 0. 0. 0. 0.\n",
      "  0. 0. 0. 0. 0. 0. 0. 0. 0. 0. 0. 0. 0. 0. 0. 0. 0. 0. 0. 0. 0. 0. 0. 0.]\n",
      " [0. 1. 0. 0. 0. 0. 0. 0. 0. 0. 0. 0. 0. 0. 0. 0. 0. 0. 0. 0. 0. 0. 0. 0.\n",
      "  0. 0. 0. 0. 0. 0. 0. 0. 0. 0. 0. 0. 0. 0. 0. 0. 0. 0. 0. 0. 0. 0. 0. 0.]\n",
      " [0. 0. 0. 0. 0. 0. 0. 0. 0. 0. 0. 0. 0. 0. 0. 1. 0. 0. 0. 0. 0. 0. 0. 0.\n",
      "  0. 0. 0. 0. 0. 0. 0. 0. 0. 0. 0. 0. 0. 0. 0. 0. 0. 0. 0. 0. 0. 0. 0. 0.]\n",
      " [0. 0. 0. 0. 0. 0. 0. 0. 0. 0. 0. 1. 0. 0. 0. 0. 0. 0. 0. 0. 0. 0. 0. 0.\n",
      "  0. 0. 0. 0. 0. 0. 0. 0. 0. 0. 0. 0. 0. 0. 0. 0. 0. 0. 0. 0. 0. 0. 0. 0.]\n",
      " [0. 0. 0. 0. 0. 0. 0. 0. 0. 0. 1. 0. 0. 0. 0. 0. 0. 0. 0. 0. 0. 0. 0. 0.\n",
      "  0. 0. 0. 0. 0. 0. 0. 0. 0. 0. 0. 0. 0. 0. 0. 0. 0. 0. 0. 0. 0. 0. 0. 0.]\n",
      " [0. 0. 0. 0. 0. 0. 0. 0. 0. 0. 0. 0. 0. 0. 0. 0. 0. 0. 0. 0. 0. 0. 0. 0.\n",
      "  0. 0. 0. 0. 0. 0. 0. 0. 0. 0. 0. 0. 1. 0. 0. 0. 0. 0. 0. 0. 0. 0. 0. 0.]\n",
      " [0. 0. 0. 0. 0. 0. 1. 0. 0. 0. 0. 0. 0. 0. 0. 0. 0. 0. 0. 0. 0. 0. 0. 0.\n",
      "  0. 0. 0. 0. 0. 0. 0. 0. 0. 0. 0. 0. 0. 0. 0. 0. 0. 0. 0. 0. 0. 0. 0. 0.]\n",
      " [0. 0. 0. 0. 0. 0. 0. 0. 0. 0. 0. 0. 0. 0. 0. 0. 0. 0. 0. 1. 0. 0. 0. 0.\n",
      "  0. 0. 0. 0. 0. 0. 0. 0. 0. 0. 0. 0. 0. 0. 0. 0. 0. 0. 0. 0. 0. 0. 0. 0.]\n",
      " [0. 0. 0. 0. 0. 0. 0. 0. 0. 1. 0. 0. 0. 0. 0. 0. 0. 0. 0. 0. 0. 0. 0. 0.\n",
      "  0. 0. 0. 0. 0. 0. 0. 0. 0. 0. 0. 0. 0. 0. 0. 0. 0. 0. 0. 0. 0. 0. 0. 0.]\n",
      " [0. 0. 0. 0. 0. 0. 0. 0. 0. 0. 0. 0. 0. 0. 0. 1. 0. 0. 0. 0. 0. 0. 0. 0.\n",
      "  0. 0. 0. 0. 0. 0. 0. 0. 0. 0. 0. 0. 0. 0. 0. 0. 0. 0. 0. 0. 0. 0. 0. 0.]\n",
      " [0. 0. 0. 0. 0. 0. 0. 0. 0. 1. 0. 0. 0. 0. 0. 0. 0. 0. 0. 0. 0. 0. 0. 0.\n",
      "  0. 0. 0. 0. 0. 0. 0. 0. 0. 0. 0. 0. 0. 0. 0. 0. 0. 0. 0. 0. 0. 0. 0. 0.]]\n"
     ]
    }
   ],
   "source": [
    "test_imgs, test_labels = next(test_batches)\n",
    "# print(test_imgs)\n",
    "print(test_labels)\n"
   ]
  },
  {
   "cell_type": "code",
   "execution_count": null,
   "metadata": {},
   "outputs": [],
   "source": []
  },
  {
   "cell_type": "code",
   "execution_count": 42,
   "metadata": {},
   "outputs": [
    {
     "data": {
      "image/png": "[encoded data removed]",
      "text/plain": [
       "<matplotlib.figure.Figure at 0x1bd823b96d8>"
      ]
     },
     "metadata": {},
     "output_type": "display_data"
    }
   ],
   "source": [
    "plots(test_imgs, titles = test_labels)\n"
   ]
  },
  {
   "cell_type": "code",
   "execution_count": null,
   "metadata": {},
   "outputs": [],
   "source": []
  },
  {
   "cell_type": "code",
   "execution_count": 43,
   "metadata": {},
   "outputs": [
    {
     "data": {
      "text/plain": [
       "array([0., 0., 0., 0., 0., 0., 0., 0., 0., 0., 0., 0., 0., 0., 0., 0., 0.,\n",
       "       0., 0., 0., 0., 0., 0., 0., 0., 0., 0., 0., 0., 0., 0., 0., 0., 0.,\n",
       "       0., 0., 0., 0., 1., 0., 0., 0., 0., 0., 0., 0., 0., 0.],\n",
       "      dtype=float32)"
      ]
     },
     "execution_count": 43,
     "metadata": {},
     "output_type": "execute_result"
    }
   ],
   "source": [
    "test_label = test_labels[2,:]\n",
    "test_label"
   ]
  },
  {
   "cell_type": "code",
   "execution_count": 44,
   "metadata": {},
   "outputs": [],
   "source": [
    "# dimensions of our images.\n",
    "\n",
    "img_width, img_height = 150, 150\n",
    "\n",
    "train_data_dir = 'train'\n",
    "validation_data_dir = 'valid'\n",
    "\n",
    "nb_train_samples = 24652\n",
    "nb_validation_samples = 840\n",
    "epochs = 30\n",
    "# batch_size = 10\n",
    "\n",
    "if K.image_data_format() == 'channels_first':\n",
    "    input_shape = (3, img_width, img_height)\n",
    "else:\n",
    "    input_shape = (img_width, img_height, 3)"
   ]
  },
  {
   "cell_type": "code",
   "execution_count": 45,
   "metadata": {},
   "outputs": [],
   "source": [
    "#     model = Sequential()\n",
    "\n",
    "#     model.add(ZeroPadding2D((1,1),input_shape=input_shape))\n",
    "\n",
    "#     model.add(Convolution2D(64, 3, 3, activation='relu'))\n",
    "\n",
    "#     model.add(ZeroPadding2D((1,1)))\n",
    "\n",
    "#     model.add(Convolution2D(64, 3, 3, activation='relu'))\n",
    "\n",
    "#     model.add(MaxPooling2D((2,2), strides=(2,2)))\n",
    "\n",
    "\n",
    "\n",
    "#     model.add(ZeroPadding2D((1,1)))\n",
    "\n",
    "#     model.add(Convolution2D(128, 3, 3, activation='relu'))\n",
    "\n",
    "#     model.add(ZeroPadding2D((1,1)))\n",
    "\n",
    "#     model.add(Convolution2D(128, 3, 3, activation='relu'))\n",
    "\n",
    "#     model.add(MaxPooling2D((2,2), strides=(2,2)))\n",
    "\n",
    "\n",
    "\n",
    "#     model.add(ZeroPadding2D((1,1)))\n",
    "\n",
    "#     model.add(Convolution2D(256, 3, 3, activation='relu'))\n",
    "\n",
    "#     model.add(ZeroPadding2D((1,1)))\n",
    "\n",
    "#     model.add(Convolution2D(256, 3, 3, activation='relu'))\n",
    "\n",
    "#     model.add(ZeroPadding2D((1,1)))\n",
    "\n",
    "#     model.add(Convolution2D(256, 3, 3, activation='relu'))\n",
    "\n",
    "#     model.add(MaxPooling2D((2,2), strides=(2,2)))\n",
    "\n",
    "\n",
    "\n",
    "#     model.add(ZeroPadding2D((1,1)))\n",
    "\n",
    "#     model.add(Convolution2D(512, 3, 3, activation='relu'))\n",
    "\n",
    "#     model.add(ZeroPadding2D((1,1)))\n",
    "\n",
    "#     model.add(Convolution2D(512, 3, 3, activation='relu'))\n",
    "\n",
    "#     model.add(ZeroPadding2D((1,1)))\n",
    "\n",
    "#     model.add(Convolution2D(512, 3, 3, activation='relu'))\n",
    "\n",
    "#     model.add(MaxPooling2D((2,2), strides=(2,2)))\n",
    "\n",
    "\n",
    "\n",
    "#     model.add(ZeroPadding2D((1,1)))\n",
    "\n",
    "#     model.add(Convolution2D(512, 3, 3, activation='relu'))\n",
    "\n",
    "#     model.add(ZeroPadding2D((1,1)))\n",
    "\n",
    "#     model.add(Convolution2D(512, 3, 3, activation='relu'))\n",
    "\n",
    "#     model.add(ZeroPadding2D((1,1)))\n",
    "\n",
    "#     model.add(Convolution2D(512, 3, 3, activation='relu'))\n",
    "\n",
    "#     model.add(MaxPooling2D((2,2), strides=(2,2)))\n",
    "\n",
    "\n",
    "\n",
    "#     model.add(Flatten())\n",
    "\n",
    "#     model.add(Dense(4096, activation='relu'))\n",
    "\n",
    "#     model.add(Dropout(0.5))\n",
    "\n",
    "#     model.add(Dense(4096, activation='relu'))\n",
    "\n",
    "#     model.add(Dropout(0.5))\n",
    "\n",
    "#     model.add(Dense(36, activation='sigmoid'))"
   ]
  },
  {
   "cell_type": "code",
   "execution_count": 46,
   "metadata": {},
   "outputs": [],
   "source": [
    "from keras.layers import Dropout\n",
    "\n",
    "model = Sequential()\n",
    "\n",
    "model.add(Conv2D(32, (3, 3), input_shape=input_shape))\n",
    "\n",
    "model.add(Activation('relu'))\n",
    "\n",
    "model.add(MaxPooling2D(pool_size=(2, 2)))\n",
    "\n",
    "\n",
    "\n",
    "model.add(Conv2D(32, (3, 3)))\n",
    "\n",
    "model.add(Activation('relu'))\n",
    "\n",
    "model.add(MaxPooling2D(pool_size=(2, 2)))\n",
    "\n",
    "\n",
    "\n",
    "model.add(Conv2D(64, (3, 3)))\n",
    "\n",
    "model.add(Activation('relu'))\n",
    "\n",
    "model.add(MaxPooling2D(pool_size=(2, 2)))\n",
    "\n",
    "\n",
    "\n",
    "model.add(Flatten())\n",
    "\n",
    "model.add(Dense(64))\n",
    "\n",
    "model.add(Activation('relu'))\n",
    "\n",
    "model.add(Dropout(0.5))\n",
    "\n",
    "model.add(Dense(48))\n",
    "\n",
    "model.add(Activation('sigmoid'))"
   ]
  },
  {
   "cell_type": "code",
   "execution_count": 55,
   "metadata": {},
   "outputs": [],
   "source": [
    "from keras.optimizers import SGD\n",
    "\n",
    "\n",
    "sgd = SGD(lr=0.01, decay=1e-6, momentum=0.9, nesterov=True) #learning rate decays with decay factor\n",
    "\n",
    "model.compile(optimizer=sgd, loss='categorical_crossentropy',metrics=['accuracy'])"
   ]
  },
  {
   "cell_type": "code",
   "execution_count": 56,
   "metadata": {},
   "outputs": [],
   "source": [
    "# model.compile(loss='categorical_crossentropy',\n",
    "\n",
    "#               optimizer='rmsprop',\n",
    "\n",
    "#               metrics=['accuracy'])"
   ]
  },
  {
   "cell_type": "code",
   "execution_count": 57,
   "metadata": {},
   "outputs": [],
   "source": [
    "# model.compile(loss=keras.losses.categorical_crossentropy, optimizer=keras.optimizers.Adam(),metrics=['accuracy'])"
   ]
  },
  {
   "cell_type": "code",
   "execution_count": 58,
   "metadata": {},
   "outputs": [
    {
     "name": "stdout",
     "output_type": "stream",
     "text": [
      "Epoch 1/30\n",
      "1232/1232 [==============================] - 1101s 894ms/step - loss: 10.1637 - acc: 0.0220 - val_loss: 10.6309 - val_acc: 0.0208\n",
      "Epoch 2/30\n",
      "1232/1232 [==============================] - 1059s 859ms/step - loss: 10.1845 - acc: 0.0222 - val_loss: 10.6114 - val_acc: 0.0216\n",
      "Epoch 3/30\n",
      "1232/1232 [==============================] - 1006s 816ms/step - loss: 10.1781 - acc: 0.0224 - val_loss: 10.6309 - val_acc: 0.0208\n",
      "Epoch 4/30\n",
      "1232/1232 [==============================] - 1015s 824ms/step - loss: 10.1969 - acc: 0.0216 - val_loss: 10.6602 - val_acc: 0.0208\n",
      "Epoch 5/30\n",
      "1232/1232 [==============================] - 1068s 867ms/step - loss: 10.2014 - acc: 0.0220 - val_loss: 10.6895 - val_acc: 0.0216\n",
      "Epoch 6/30\n",
      "1232/1232 [==============================] - 1027s 834ms/step - loss: 10.1809 - acc: 0.0216 - val_loss: 10.6309 - val_acc: 0.0223\n",
      "Epoch 7/30\n",
      "1232/1232 [==============================] - 1480s 1s/step - loss: 10.2007 - acc: 0.0215 - val_loss: 10.7286 - val_acc: 0.0208\n",
      "Epoch 8/30\n",
      "1232/1232 [==============================] - 47466s 39s/step - loss: 10.2122 - acc: 0.0220 - val_loss: 10.7188 - val_acc: 0.0216\n",
      "Epoch 9/30\n",
      " 988/1232 [=======================>......] - ETA: 1:34:44 - loss: 10.2517 - acc: 0.0220"
     ]
    },
    {
     "ename": "KeyboardInterrupt",
     "evalue": "",
     "output_type": "error",
     "traceback": [
      "\u001b[1;31m---------------------------------------------------------------------------\u001b[0m",
      "\u001b[1;31mKeyboardInterrupt\u001b[0m                         Traceback (most recent call last)",
      "\u001b[1;32m<ipython-input-58-165b0687414d>\u001b[0m in \u001b[0;36m<module>\u001b[1;34m()\u001b[0m\n\u001b[0;32m      5\u001b[0m     \u001b[0mepochs\u001b[0m\u001b[1;33m=\u001b[0m\u001b[0mepochs\u001b[0m\u001b[1;33m,\u001b[0m\u001b[1;33m\u001b[0m\u001b[0m\n\u001b[0;32m      6\u001b[0m     \u001b[0mvalidation_data\u001b[0m\u001b[1;33m=\u001b[0m\u001b[0mvalid_batches\u001b[0m\u001b[1;33m,\u001b[0m\u001b[1;33m\u001b[0m\u001b[0m\n\u001b[1;32m----> 7\u001b[1;33m     validation_steps=nb_validation_samples // batch_size)\n\u001b[0m",
      "\u001b[1;32m~\\Anaconda3\\lib\\site-packages\\keras\\legacy\\interfaces.py\u001b[0m in \u001b[0;36mwrapper\u001b[1;34m(*args, **kwargs)\u001b[0m\n\u001b[0;32m     89\u001b[0m                 warnings.warn('Update your `' + object_name +\n\u001b[0;32m     90\u001b[0m                               '` call to the Keras 2 API: ' + signature, stacklevel=2)\n\u001b[1;32m---> 91\u001b[1;33m             \u001b[1;32mreturn\u001b[0m \u001b[0mfunc\u001b[0m\u001b[1;33m(\u001b[0m\u001b[1;33m*\u001b[0m\u001b[0margs\u001b[0m\u001b[1;33m,\u001b[0m \u001b[1;33m**\u001b[0m\u001b[0mkwargs\u001b[0m\u001b[1;33m)\u001b[0m\u001b[1;33m\u001b[0m\u001b[0m\n\u001b[0m\u001b[0;32m     92\u001b[0m         \u001b[0mwrapper\u001b[0m\u001b[1;33m.\u001b[0m\u001b[0m_original_function\u001b[0m \u001b[1;33m=\u001b[0m \u001b[0mfunc\u001b[0m\u001b[1;33m\u001b[0m\u001b[0m\n\u001b[0;32m     93\u001b[0m         \u001b[1;32mreturn\u001b[0m \u001b[0mwrapper\u001b[0m\u001b[1;33m\u001b[0m\u001b[0m\n",
      "\u001b[1;32m~\\Anaconda3\\lib\\site-packages\\keras\\models.py\u001b[0m in \u001b[0;36mfit_generator\u001b[1;34m(self, generator, steps_per_epoch, epochs, verbose, callbacks, validation_data, validation_steps, class_weight, max_queue_size, workers, use_multiprocessing, shuffle, initial_epoch)\u001b[0m\n\u001b[0;32m   1313\u001b[0m                                         \u001b[0muse_multiprocessing\u001b[0m\u001b[1;33m=\u001b[0m\u001b[0muse_multiprocessing\u001b[0m\u001b[1;33m,\u001b[0m\u001b[1;33m\u001b[0m\u001b[0m\n\u001b[0;32m   1314\u001b[0m                                         \u001b[0mshuffle\u001b[0m\u001b[1;33m=\u001b[0m\u001b[0mshuffle\u001b[0m\u001b[1;33m,\u001b[0m\u001b[1;33m\u001b[0m\u001b[0m\n\u001b[1;32m-> 1315\u001b[1;33m                                         initial_epoch=initial_epoch)\n\u001b[0m\u001b[0;32m   1316\u001b[0m \u001b[1;33m\u001b[0m\u001b[0m\n\u001b[0;32m   1317\u001b[0m     \u001b[1;33m@\u001b[0m\u001b[0minterfaces\u001b[0m\u001b[1;33m.\u001b[0m\u001b[0mlegacy_generator_methods_support\u001b[0m\u001b[1;33m\u001b[0m\u001b[0m\n",
      "\u001b[1;32m~\\Anaconda3\\lib\\site-packages\\keras\\legacy\\interfaces.py\u001b[0m in \u001b[0;36mwrapper\u001b[1;34m(*args, **kwargs)\u001b[0m\n\u001b[0;32m     89\u001b[0m                 warnings.warn('Update your `' + object_name +\n\u001b[0;32m     90\u001b[0m                               '` call to the Keras 2 API: ' + signature, stacklevel=2)\n\u001b[1;32m---> 91\u001b[1;33m             \u001b[1;32mreturn\u001b[0m \u001b[0mfunc\u001b[0m\u001b[1;33m(\u001b[0m\u001b[1;33m*\u001b[0m\u001b[0margs\u001b[0m\u001b[1;33m,\u001b[0m \u001b[1;33m**\u001b[0m\u001b[0mkwargs\u001b[0m\u001b[1;33m)\u001b[0m\u001b[1;33m\u001b[0m\u001b[0m\n\u001b[0m\u001b[0;32m     92\u001b[0m         \u001b[0mwrapper\u001b[0m\u001b[1;33m.\u001b[0m\u001b[0m_original_function\u001b[0m \u001b[1;33m=\u001b[0m \u001b[0mfunc\u001b[0m\u001b[1;33m\u001b[0m\u001b[0m\n\u001b[0;32m     93\u001b[0m         \u001b[1;32mreturn\u001b[0m \u001b[0mwrapper\u001b[0m\u001b[1;33m\u001b[0m\u001b[0m\n",
      "\u001b[1;32m~\\Anaconda3\\lib\\site-packages\\keras\\engine\\training.py\u001b[0m in \u001b[0;36mfit_generator\u001b[1;34m(self, generator, steps_per_epoch, epochs, verbose, callbacks, validation_data, validation_steps, class_weight, max_queue_size, workers, use_multiprocessing, shuffle, initial_epoch)\u001b[0m\n\u001b[0;32m   2228\u001b[0m                     outs = self.train_on_batch(x, y,\n\u001b[0;32m   2229\u001b[0m                                                \u001b[0msample_weight\u001b[0m\u001b[1;33m=\u001b[0m\u001b[0msample_weight\u001b[0m\u001b[1;33m,\u001b[0m\u001b[1;33m\u001b[0m\u001b[0m\n\u001b[1;32m-> 2230\u001b[1;33m                                                class_weight=class_weight)\n\u001b[0m\u001b[0;32m   2231\u001b[0m \u001b[1;33m\u001b[0m\u001b[0m\n\u001b[0;32m   2232\u001b[0m                     \u001b[1;32mif\u001b[0m \u001b[1;32mnot\u001b[0m \u001b[0misinstance\u001b[0m\u001b[1;33m(\u001b[0m\u001b[0mouts\u001b[0m\u001b[1;33m,\u001b[0m \u001b[0mlist\u001b[0m\u001b[1;33m)\u001b[0m\u001b[1;33m:\u001b[0m\u001b[1;33m\u001b[0m\u001b[0m\n",
      "\u001b[1;32m~\\Anaconda3\\lib\\site-packages\\keras\\engine\\training.py\u001b[0m in \u001b[0;36mtrain_on_batch\u001b[1;34m(self, x, y, sample_weight, class_weight)\u001b[0m\n\u001b[0;32m   1881\u001b[0m             \u001b[0mins\u001b[0m \u001b[1;33m=\u001b[0m \u001b[0mx\u001b[0m \u001b[1;33m+\u001b[0m \u001b[0my\u001b[0m \u001b[1;33m+\u001b[0m \u001b[0msample_weights\u001b[0m\u001b[1;33m\u001b[0m\u001b[0m\n\u001b[0;32m   1882\u001b[0m         \u001b[0mself\u001b[0m\u001b[1;33m.\u001b[0m\u001b[0m_make_train_function\u001b[0m\u001b[1;33m(\u001b[0m\u001b[1;33m)\u001b[0m\u001b[1;33m\u001b[0m\u001b[0m\n\u001b[1;32m-> 1883\u001b[1;33m         \u001b[0moutputs\u001b[0m \u001b[1;33m=\u001b[0m \u001b[0mself\u001b[0m\u001b[1;33m.\u001b[0m\u001b[0mtrain_function\u001b[0m\u001b[1;33m(\u001b[0m\u001b[0mins\u001b[0m\u001b[1;33m)\u001b[0m\u001b[1;33m\u001b[0m\u001b[0m\n\u001b[0m\u001b[0;32m   1884\u001b[0m         \u001b[1;32mif\u001b[0m \u001b[0mlen\u001b[0m\u001b[1;33m(\u001b[0m\u001b[0moutputs\u001b[0m\u001b[1;33m)\u001b[0m \u001b[1;33m==\u001b[0m \u001b[1;36m1\u001b[0m\u001b[1;33m:\u001b[0m\u001b[1;33m\u001b[0m\u001b[0m\n\u001b[0;32m   1885\u001b[0m             \u001b[1;32mreturn\u001b[0m \u001b[0moutputs\u001b[0m\u001b[1;33m[\u001b[0m\u001b[1;36m0\u001b[0m\u001b[1;33m]\u001b[0m\u001b[1;33m\u001b[0m\u001b[0m\n",
      "\u001b[1;32m~\\Anaconda3\\lib\\site-packages\\keras\\backend\\tensorflow_backend.py\u001b[0m in \u001b[0;36m__call__\u001b[1;34m(self, inputs)\u001b[0m\n\u001b[0;32m   2480\u001b[0m         \u001b[0msession\u001b[0m \u001b[1;33m=\u001b[0m \u001b[0mget_session\u001b[0m\u001b[1;33m(\u001b[0m\u001b[1;33m)\u001b[0m\u001b[1;33m\u001b[0m\u001b[0m\n\u001b[0;32m   2481\u001b[0m         updated = session.run(fetches=fetches, feed_dict=feed_dict,\n\u001b[1;32m-> 2482\u001b[1;33m                               **self.session_kwargs)\n\u001b[0m\u001b[0;32m   2483\u001b[0m         \u001b[1;32mreturn\u001b[0m \u001b[0mupdated\u001b[0m\u001b[1;33m[\u001b[0m\u001b[1;33m:\u001b[0m\u001b[0mlen\u001b[0m\u001b[1;33m(\u001b[0m\u001b[0mself\u001b[0m\u001b[1;33m.\u001b[0m\u001b[0moutputs\u001b[0m\u001b[1;33m)\u001b[0m\u001b[1;33m]\u001b[0m\u001b[1;33m\u001b[0m\u001b[0m\n\u001b[0;32m   2484\u001b[0m \u001b[1;33m\u001b[0m\u001b[0m\n",
      "\u001b[1;32m~\\Anaconda3\\lib\\site-packages\\tensorflow\\python\\client\\session.py\u001b[0m in \u001b[0;36mrun\u001b[1;34m(self, fetches, feed_dict, options, run_metadata)\u001b[0m\n\u001b[0;32m    898\u001b[0m     \u001b[1;32mtry\u001b[0m\u001b[1;33m:\u001b[0m\u001b[1;33m\u001b[0m\u001b[0m\n\u001b[0;32m    899\u001b[0m       result = self._run(None, fetches, feed_dict, options_ptr,\n\u001b[1;32m--> 900\u001b[1;33m                          run_metadata_ptr)\n\u001b[0m\u001b[0;32m    901\u001b[0m       \u001b[1;32mif\u001b[0m \u001b[0mrun_metadata\u001b[0m\u001b[1;33m:\u001b[0m\u001b[1;33m\u001b[0m\u001b[0m\n\u001b[0;32m    902\u001b[0m         \u001b[0mproto_data\u001b[0m \u001b[1;33m=\u001b[0m \u001b[0mtf_session\u001b[0m\u001b[1;33m.\u001b[0m\u001b[0mTF_GetBuffer\u001b[0m\u001b[1;33m(\u001b[0m\u001b[0mrun_metadata_ptr\u001b[0m\u001b[1;33m)\u001b[0m\u001b[1;33m\u001b[0m\u001b[0m\n",
      "\u001b[1;32m~\\Anaconda3\\lib\\site-packages\\tensorflow\\python\\client\\session.py\u001b[0m in \u001b[0;36m_run\u001b[1;34m(self, handle, fetches, feed_dict, options, run_metadata)\u001b[0m\n\u001b[0;32m   1133\u001b[0m     \u001b[1;32mif\u001b[0m \u001b[0mfinal_fetches\u001b[0m \u001b[1;32mor\u001b[0m \u001b[0mfinal_targets\u001b[0m \u001b[1;32mor\u001b[0m \u001b[1;33m(\u001b[0m\u001b[0mhandle\u001b[0m \u001b[1;32mand\u001b[0m \u001b[0mfeed_dict_tensor\u001b[0m\u001b[1;33m)\u001b[0m\u001b[1;33m:\u001b[0m\u001b[1;33m\u001b[0m\u001b[0m\n\u001b[0;32m   1134\u001b[0m       results = self._do_run(handle, final_targets, final_fetches,\n\u001b[1;32m-> 1135\u001b[1;33m                              feed_dict_tensor, options, run_metadata)\n\u001b[0m\u001b[0;32m   1136\u001b[0m     \u001b[1;32melse\u001b[0m\u001b[1;33m:\u001b[0m\u001b[1;33m\u001b[0m\u001b[0m\n\u001b[0;32m   1137\u001b[0m       \u001b[0mresults\u001b[0m \u001b[1;33m=\u001b[0m \u001b[1;33m[\u001b[0m\u001b[1;33m]\u001b[0m\u001b[1;33m\u001b[0m\u001b[0m\n",
      "\u001b[1;32m~\\Anaconda3\\lib\\site-packages\\tensorflow\\python\\client\\session.py\u001b[0m in \u001b[0;36m_do_run\u001b[1;34m(self, handle, target_list, fetch_list, feed_dict, options, run_metadata)\u001b[0m\n\u001b[0;32m   1314\u001b[0m     \u001b[1;32mif\u001b[0m \u001b[0mhandle\u001b[0m \u001b[1;32mis\u001b[0m \u001b[1;32mNone\u001b[0m\u001b[1;33m:\u001b[0m\u001b[1;33m\u001b[0m\u001b[0m\n\u001b[0;32m   1315\u001b[0m       return self._do_call(_run_fn, feeds, fetches, targets, options,\n\u001b[1;32m-> 1316\u001b[1;33m                            run_metadata)\n\u001b[0m\u001b[0;32m   1317\u001b[0m     \u001b[1;32melse\u001b[0m\u001b[1;33m:\u001b[0m\u001b[1;33m\u001b[0m\u001b[0m\n\u001b[0;32m   1318\u001b[0m       \u001b[1;32mreturn\u001b[0m \u001b[0mself\u001b[0m\u001b[1;33m.\u001b[0m\u001b[0m_do_call\u001b[0m\u001b[1;33m(\u001b[0m\u001b[0m_prun_fn\u001b[0m\u001b[1;33m,\u001b[0m \u001b[0mhandle\u001b[0m\u001b[1;33m,\u001b[0m \u001b[0mfeeds\u001b[0m\u001b[1;33m,\u001b[0m \u001b[0mfetches\u001b[0m\u001b[1;33m)\u001b[0m\u001b[1;33m\u001b[0m\u001b[0m\n",
      "\u001b[1;32m~\\Anaconda3\\lib\\site-packages\\tensorflow\\python\\client\\session.py\u001b[0m in \u001b[0;36m_do_call\u001b[1;34m(self, fn, *args)\u001b[0m\n\u001b[0;32m   1320\u001b[0m   \u001b[1;32mdef\u001b[0m \u001b[0m_do_call\u001b[0m\u001b[1;33m(\u001b[0m\u001b[0mself\u001b[0m\u001b[1;33m,\u001b[0m \u001b[0mfn\u001b[0m\u001b[1;33m,\u001b[0m \u001b[1;33m*\u001b[0m\u001b[0margs\u001b[0m\u001b[1;33m)\u001b[0m\u001b[1;33m:\u001b[0m\u001b[1;33m\u001b[0m\u001b[0m\n\u001b[0;32m   1321\u001b[0m     \u001b[1;32mtry\u001b[0m\u001b[1;33m:\u001b[0m\u001b[1;33m\u001b[0m\u001b[0m\n\u001b[1;32m-> 1322\u001b[1;33m       \u001b[1;32mreturn\u001b[0m \u001b[0mfn\u001b[0m\u001b[1;33m(\u001b[0m\u001b[1;33m*\u001b[0m\u001b[0margs\u001b[0m\u001b[1;33m)\u001b[0m\u001b[1;33m\u001b[0m\u001b[0m\n\u001b[0m\u001b[0;32m   1323\u001b[0m     \u001b[1;32mexcept\u001b[0m \u001b[0merrors\u001b[0m\u001b[1;33m.\u001b[0m\u001b[0mOpError\u001b[0m \u001b[1;32mas\u001b[0m \u001b[0me\u001b[0m\u001b[1;33m:\u001b[0m\u001b[1;33m\u001b[0m\u001b[0m\n\u001b[0;32m   1324\u001b[0m       \u001b[0mmessage\u001b[0m \u001b[1;33m=\u001b[0m \u001b[0mcompat\u001b[0m\u001b[1;33m.\u001b[0m\u001b[0mas_text\u001b[0m\u001b[1;33m(\u001b[0m\u001b[0me\u001b[0m\u001b[1;33m.\u001b[0m\u001b[0mmessage\u001b[0m\u001b[1;33m)\u001b[0m\u001b[1;33m\u001b[0m\u001b[0m\n",
      "\u001b[1;32m~\\Anaconda3\\lib\\site-packages\\tensorflow\\python\\client\\session.py\u001b[0m in \u001b[0;36m_run_fn\u001b[1;34m(feed_dict, fetch_list, target_list, options, run_metadata)\u001b[0m\n\u001b[0;32m   1305\u001b[0m       \u001b[0mself\u001b[0m\u001b[1;33m.\u001b[0m\u001b[0m_extend_graph\u001b[0m\u001b[1;33m(\u001b[0m\u001b[1;33m)\u001b[0m\u001b[1;33m\u001b[0m\u001b[0m\n\u001b[0;32m   1306\u001b[0m       return self._call_tf_sessionrun(\n\u001b[1;32m-> 1307\u001b[1;33m           options, feed_dict, fetch_list, target_list, run_metadata)\n\u001b[0m\u001b[0;32m   1308\u001b[0m \u001b[1;33m\u001b[0m\u001b[0m\n\u001b[0;32m   1309\u001b[0m     \u001b[1;32mdef\u001b[0m \u001b[0m_prun_fn\u001b[0m\u001b[1;33m(\u001b[0m\u001b[0mhandle\u001b[0m\u001b[1;33m,\u001b[0m \u001b[0mfeed_dict\u001b[0m\u001b[1;33m,\u001b[0m \u001b[0mfetch_list\u001b[0m\u001b[1;33m)\u001b[0m\u001b[1;33m:\u001b[0m\u001b[1;33m\u001b[0m\u001b[0m\n",
      "\u001b[1;32m~\\Anaconda3\\lib\\site-packages\\tensorflow\\python\\client\\session.py\u001b[0m in \u001b[0;36m_call_tf_sessionrun\u001b[1;34m(self, options, feed_dict, fetch_list, target_list, run_metadata)\u001b[0m\n\u001b[0;32m   1407\u001b[0m       return tf_session.TF_SessionRun_wrapper(\n\u001b[0;32m   1408\u001b[0m           \u001b[0mself\u001b[0m\u001b[1;33m.\u001b[0m\u001b[0m_session\u001b[0m\u001b[1;33m,\u001b[0m \u001b[0moptions\u001b[0m\u001b[1;33m,\u001b[0m \u001b[0mfeed_dict\u001b[0m\u001b[1;33m,\u001b[0m \u001b[0mfetch_list\u001b[0m\u001b[1;33m,\u001b[0m \u001b[0mtarget_list\u001b[0m\u001b[1;33m,\u001b[0m\u001b[1;33m\u001b[0m\u001b[0m\n\u001b[1;32m-> 1409\u001b[1;33m           run_metadata)\n\u001b[0m\u001b[0;32m   1410\u001b[0m     \u001b[1;32melse\u001b[0m\u001b[1;33m:\u001b[0m\u001b[1;33m\u001b[0m\u001b[0m\n\u001b[0;32m   1411\u001b[0m       \u001b[1;32mwith\u001b[0m \u001b[0merrors\u001b[0m\u001b[1;33m.\u001b[0m\u001b[0mraise_exception_on_not_ok_status\u001b[0m\u001b[1;33m(\u001b[0m\u001b[1;33m)\u001b[0m \u001b[1;32mas\u001b[0m \u001b[0mstatus\u001b[0m\u001b[1;33m:\u001b[0m\u001b[1;33m\u001b[0m\u001b[0m\n",
      "\u001b[1;31mKeyboardInterrupt\u001b[0m: "
     ]
    }
   ],
   "source": [
    "\n",
    "model.fit_generator( \n",
    "    train_batches,\n",
    "    steps_per_epoch=nb_train_samples // batch_size,\n",
    "    epochs=epochs,\n",
    "    validation_data=valid_batches,\n",
    "    validation_steps=nb_validation_samples // batch_size)"
   ]
  },
  {
   "cell_type": "markdown",
   "metadata": {
    "collapsed": true
   },
   "source": [
    "# model.save_weights('revised_final_model_weights.h5')"
   ]
  },
  {
   "cell_type": "code",
   "execution_count": 36,
   "metadata": {},
   "outputs": [],
   "source": [
    "model.save('revised_final_model.h5')"
   ]
  },
  {
   "cell_type": "code",
   "execution_count": 79,
   "metadata": {},
   "outputs": [],
   "source": [
    "result = model.predict(test_imgs, batch_size=1)"
   ]
  },
  {
   "cell_type": "code",
   "execution_count": 80,
   "metadata": {},
   "outputs": [
    {
     "data": {
      "text/plain": [
       "array([[1.07098893e-19, 1.29081754e-15, 3.05792024e-11, 1.46812562e-13,\n",
       "        1.50189337e-08, 8.48650145e-16, 1.61343801e-14, 4.98649385e-03,\n",
       "        5.01878136e-20, 2.84149173e-05, 2.17568716e-21, 1.53703669e-13,\n",
       "        1.42135248e-10, 1.33972405e-18, 5.58420963e-17, 6.84778174e-20,\n",
       "        2.45355071e-17, 6.72124191e-16, 2.05435170e-13, 2.62543520e-14,\n",
       "        2.81794097e-16, 3.61024037e-17, 1.85543787e-14, 5.87776811e-19,\n",
       "        1.36400966e-15, 9.01770590e-19, 2.29555666e-21, 2.09533359e-13,\n",
       "        1.74903860e-16, 6.44774450e-17, 5.54421092e-13, 8.18091966e-19,\n",
       "        3.02334281e-19, 6.40021348e-14, 2.53015200e-16, 2.37381469e-11],\n",
       "       [5.43205174e-17, 8.50537307e-10, 2.96120875e-12, 8.08800180e-11,\n",
       "        2.93896028e-16, 7.04645564e-10, 1.02715037e-12, 1.73847543e-16,\n",
       "        1.16231010e-23, 1.51060100e-12, 4.52756588e-09, 4.56031845e-20,\n",
       "        1.11924542e-13, 7.52469918e-14, 1.55311758e-14, 7.15519928e-13,\n",
       "        2.74821886e-13, 3.72474655e-11, 1.55717233e-14, 1.99629850e-13,\n",
       "        4.85507142e-13, 6.50717906e-22, 5.39818051e-11, 2.85442242e-16,\n",
       "        1.01066565e-14, 9.91788596e-12, 1.86568394e-01, 1.59732752e-12,\n",
       "        2.77465273e-10, 1.29732154e-11, 4.89296798e-15, 8.78819351e-10,\n",
       "        1.51443580e-11, 7.58572756e-14, 9.02394072e-14, 3.80358383e-14],\n",
       "       [2.16378446e-14, 3.13315450e-11, 5.35537428e-15, 2.70425460e-07,\n",
       "        1.66588443e-09, 2.66788275e-11, 2.21881643e-01, 1.24934208e-17,\n",
       "        1.97843356e-13, 5.47361194e-17, 8.67777909e-17, 8.55448931e-18,\n",
       "        6.54235635e-07, 8.20454531e-08, 7.08216076e-18, 2.06994749e-16,\n",
       "        3.13375032e-16, 1.60444208e-04, 1.79341343e-17, 2.72844117e-12,\n",
       "        4.80277103e-11, 3.80586235e-14, 5.17839879e-17, 1.12349788e-16,\n",
       "        5.90676732e-14, 3.20866177e-14, 5.76912695e-09, 1.23122021e-19,\n",
       "        3.62752199e-18, 2.94877946e-13, 3.77463936e-14, 5.30088862e-09,\n",
       "        4.82200488e-13, 4.62476086e-13, 1.17707510e-11, 2.43036521e-13],\n",
       "       [5.10005856e-14, 3.09525433e-10, 8.07887091e-12, 1.03806651e-10,\n",
       "        4.14529495e-07, 1.05402221e-20, 1.22700363e-14, 2.63715716e-08,\n",
       "        2.42873431e-24, 1.05705852e-12, 1.93633612e-14, 1.32797828e-10,\n",
       "        2.61117294e-02, 2.89549984e-08, 6.90595094e-17, 3.41391256e-16,\n",
       "        1.55864299e-18, 2.21500027e-10, 2.07664476e-14, 3.09642608e-16,\n",
       "        3.73520962e-12, 1.45170146e-18, 5.04641329e-10, 9.25015319e-22,\n",
       "        2.55472930e-15, 9.37824240e-14, 9.07718623e-16, 1.21963969e-14,\n",
       "        3.65906958e-11, 4.24477409e-18, 4.08756687e-14, 4.02351026e-15,\n",
       "        1.09312483e-12, 4.21090816e-17, 1.26916588e-14, 3.60951232e-16],\n",
       "       [1.30209676e-10, 1.13314588e-12, 7.34800585e-18, 5.08988858e-12,\n",
       "        1.77152265e-13, 7.94402836e-18, 3.70331173e-14, 5.50070078e-16,\n",
       "        7.01757541e-11, 5.03095086e-21, 4.87683717e-20, 4.06868306e-17,\n",
       "        2.01313116e-16, 2.87835506e-18, 4.73807158e-14, 8.14281475e-18,\n",
       "        1.92694569e-17, 3.34888286e-13, 3.94074256e-21, 6.90295514e-15,\n",
       "        1.37982056e-10, 3.39578278e-02, 4.06989157e-18, 2.50378522e-17,\n",
       "        1.15844996e-12, 4.40304328e-15, 1.93360979e-13, 6.19198952e-17,\n",
       "        2.53860026e-17, 6.05130773e-14, 2.99368690e-12, 4.96390581e-13,\n",
       "        2.61585926e-17, 1.81632223e-14, 6.50082223e-16, 5.05476229e-15],\n",
       "       [2.81259846e-12, 2.61263358e-06, 5.41692634e-06, 3.16984905e-03,\n",
       "        9.94433869e-10, 2.39621204e-05, 1.97794429e-06, 3.29496742e-11,\n",
       "        9.74051844e-08, 6.16687714e-08, 2.63574024e-11, 2.68633755e-14,\n",
       "        3.11463598e-11, 2.54712375e-12, 1.03777310e-07, 1.05859307e-10,\n",
       "        8.75619473e-04, 7.99858952e-08, 3.37981689e-03, 4.97175912e-10,\n",
       "        2.05863603e-06, 1.29795386e-09, 4.20777937e-08, 6.67765562e-04,\n",
       "        2.94529094e-08, 1.77544236e-04, 1.19624713e-06, 4.50783133e-10,\n",
       "        1.14879001e-07, 4.91682249e-06, 5.71299893e-07, 3.06070206e-06,\n",
       "        2.90060448e-10, 1.36712799e-04, 5.28919075e-10, 1.70586145e-09],\n",
       "       [4.42279859e-11, 1.68258376e-11, 2.19722329e-09, 2.01520677e-07,\n",
       "        2.66121447e-07, 1.44483401e-11, 2.62506763e-08, 3.33922126e-12,\n",
       "        3.91732016e-07, 2.25563915e-10, 6.75623238e-11, 1.01295803e-11,\n",
       "        4.04365187e-11, 1.54751351e-11, 3.21603477e-09, 1.39083033e-11,\n",
       "        5.21139298e-10, 7.37734807e-09, 2.32789631e-07, 1.21943219e-11,\n",
       "        2.52289487e-12, 2.61769877e-11, 9.03996211e-10, 2.63668426e-05,\n",
       "        2.31824071e-08, 5.72175085e-10, 1.41588813e-12, 8.25610524e-10,\n",
       "        1.00638242e-09, 4.25375617e-07, 1.07237559e-10, 8.08940186e-08,\n",
       "        5.90825877e-09, 2.85918303e-02, 5.33448814e-14, 4.37283543e-09],\n",
       "       [2.29568906e-20, 5.34825699e-12, 6.53279137e-16, 9.54691992e-10,\n",
       "        3.77579619e-19, 4.22068420e-14, 4.40621714e-12, 1.24690910e-17,\n",
       "        1.18600135e-19, 9.02523906e-20, 2.20104624e-15, 2.22937191e-22,\n",
       "        1.50525332e-17, 2.10996751e-17, 1.19439486e-10, 2.17806648e-17,\n",
       "        3.29120649e-14, 3.12108548e-13, 2.81276428e-16, 2.52444779e-21,\n",
       "        1.81019548e-02, 2.09148541e-12, 7.84014225e-16, 1.71104054e-15,\n",
       "        2.51165495e-12, 8.29089315e-12, 1.44183270e-08, 5.25145822e-20,\n",
       "        3.04432985e-16, 1.21977645e-11, 2.51551824e-09, 2.71942069e-09,\n",
       "        3.73457515e-16, 3.25182936e-16, 2.67721432e-20, 4.76110362e-20],\n",
       "       [1.87816811e-11, 2.95481244e-11, 3.34758665e-09, 1.97641400e-11,\n",
       "        2.77147641e-12, 9.80066167e-11, 3.21977510e-15, 9.70928199e-12,\n",
       "        3.61934099e-07, 8.66894734e-09, 5.06992418e-14, 1.32073050e-11,\n",
       "        8.53813686e-11, 9.87873464e-11, 6.58847088e-10, 3.17173554e-09,\n",
       "        4.58878985e-12, 8.27223381e-13, 8.91246576e-14, 2.43127442e-06,\n",
       "        1.95496654e-13, 1.31121511e-11, 2.57217270e-09, 1.64350467e-06,\n",
       "        1.55918628e-01, 2.21430101e-12, 4.14072639e-16, 8.16311074e-10,\n",
       "        1.40390859e-11, 3.15868469e-08, 2.51312993e-09, 3.24686455e-09,\n",
       "        4.60367997e-14, 7.16927140e-09, 6.46852884e-12, 1.16653090e-10],\n",
       "       [1.18182634e-11, 1.31904585e-08, 1.04079148e-12, 4.94682030e-12,\n",
       "        1.52691987e-14, 1.12948790e-07, 3.68809633e-16, 6.67475963e-10,\n",
       "        1.41291395e-10, 6.07926313e-06, 5.80420781e-11, 1.75311024e-12,\n",
       "        3.34856979e-13, 9.09709699e-13, 6.55269719e-12, 5.90156901e-09,\n",
       "        3.82195040e-08, 3.43608808e-10, 1.02711999e-10, 5.67943808e-08,\n",
       "        4.80110618e-10, 4.18934839e-14, 3.49735885e-08, 1.50933033e-07,\n",
       "        2.37239450e-10, 2.49151162e-06, 6.22030812e-12, 4.71761130e-10,\n",
       "        6.49237251e-08, 6.07988963e-12, 4.58442997e-07, 1.54487267e-09,\n",
       "        2.43940745e-13, 2.40239024e-06, 1.07855961e-01, 1.57700117e-10]],\n",
       "      dtype=float32)"
      ]
     },
     "execution_count": 80,
     "metadata": {},
     "output_type": "execute_result"
    }
   ],
   "source": [
    "result"
   ]
  },
  {
   "cell_type": "code",
   "execution_count": 40,
   "metadata": {},
   "outputs": [],
   "source": [
    "predictions = model.predict_generator(test_batches, steps=1, verbose=0)"
   ]
  },
  {
   "cell_type": "code",
   "execution_count": 41,
   "metadata": {},
   "outputs": [
    {
     "data": {
      "text/plain": [
       "array([[1.07098072e-19, 1.29082241e-15, 3.05789109e-11, 1.46812277e-13,\n",
       "        1.50189052e-08, 8.48656604e-16, 1.61344106e-14, 4.98649571e-03,\n",
       "        5.01874291e-20, 2.84148355e-05, 2.17567868e-21, 1.53704550e-13,\n",
       "        1.42135526e-10, 1.33971899e-18, 5.58418911e-17, 6.84778174e-20,\n",
       "        2.45355997e-17, 6.72126732e-16, 2.05435170e-13, 2.62543520e-14,\n",
       "        2.81794097e-16, 3.61019901e-17, 1.85544854e-14, 5.87772365e-19,\n",
       "        1.36399928e-15, 9.01767178e-19, 2.29557403e-21, 2.09534159e-13,\n",
       "        1.74903860e-16, 6.44774450e-17, 5.54417948e-13, 8.18088915e-19,\n",
       "        3.02335444e-19, 6.40021348e-14, 2.53012288e-16, 2.37381937e-11],\n",
       "       [5.43205174e-17, 8.50534088e-10, 2.96122024e-12, 8.08801776e-11,\n",
       "        2.93896028e-16, 7.04649672e-10, 1.02714452e-12, 1.73848854e-16,\n",
       "        1.16231010e-23, 1.51060100e-12, 4.52757476e-09, 4.56030132e-20,\n",
       "        1.11924332e-13, 7.52467072e-14, 1.55311470e-14, 7.15525458e-13,\n",
       "        2.74820829e-13, 3.72475349e-11, 1.55716945e-14, 1.99629850e-13,\n",
       "        4.85504378e-13, 6.50720329e-22, 5.39821174e-11, 2.85442242e-16,\n",
       "        1.01066184e-14, 9.91786687e-12, 1.86568618e-01, 1.59733359e-12,\n",
       "        2.77465800e-10, 1.29732631e-11, 4.89296798e-15, 8.78814299e-10,\n",
       "        1.51444465e-11, 7.58572756e-14, 9.02388854e-14, 3.80360518e-14],\n",
       "       [2.16380513e-14, 3.13313681e-11, 5.35539503e-15, 2.70424181e-07,\n",
       "        1.66587488e-09, 2.66788275e-11, 2.21881911e-01, 1.24935631e-17,\n",
       "        1.97843749e-13, 5.47363312e-17, 8.67781218e-17, 8.55445622e-18,\n",
       "        6.54238079e-07, 8.20457657e-08, 7.08224182e-18, 2.06997118e-16,\n",
       "        3.13375032e-16, 1.60445124e-04, 1.79340648e-17, 2.72844616e-12,\n",
       "        4.80279844e-11, 3.80589860e-14, 5.17843849e-17, 1.12350649e-16,\n",
       "        5.90674496e-14, 3.20868041e-14, 5.76913761e-09, 1.23122965e-19,\n",
       "        3.62754970e-18, 2.94878542e-13, 3.77466782e-14, 5.30090949e-09,\n",
       "        4.82201410e-13, 4.62476953e-13, 1.17708187e-11, 2.43037442e-13],\n",
       "       [5.10005856e-14, 3.09524850e-10, 8.07887091e-12, 1.03806651e-10,\n",
       "        4.14530319e-07, 1.05401018e-20, 1.22700829e-14, 2.63714224e-08,\n",
       "        2.42871577e-24, 1.05705256e-12, 1.93633985e-14, 1.32797329e-10,\n",
       "        2.61117052e-02, 2.89549984e-08, 6.90592447e-17, 3.41392553e-16,\n",
       "        1.55863120e-18, 2.21500429e-10, 2.07663680e-14, 3.09642608e-16,\n",
       "        3.73518837e-12, 1.45169598e-18, 5.04638442e-10, 9.25008352e-22,\n",
       "        2.55471977e-15, 9.37820649e-14, 9.07725611e-16, 1.21963046e-14,\n",
       "        3.65906264e-11, 4.24480635e-18, 4.08755163e-14, 4.02352551e-15,\n",
       "        1.09312895e-12, 4.21090816e-17, 1.26916833e-14, 3.60951232e-16],\n",
       "       [1.30209676e-10, 1.13314805e-12, 7.34806210e-18, 5.08989899e-12,\n",
       "        1.77152591e-13, 7.94408957e-18, 3.70332596e-14, 5.50070078e-16,\n",
       "        7.01761566e-11, 5.03095086e-21, 4.87685527e-20, 4.06868306e-17,\n",
       "        2.01312335e-16, 2.87835506e-18, 4.73808072e-14, 8.14284619e-18,\n",
       "        1.92696025e-17, 3.34888286e-13, 3.94075750e-21, 6.90295514e-15,\n",
       "        1.37982056e-10, 3.39578129e-02, 4.06989157e-18, 2.50379498e-17,\n",
       "        1.15845885e-12, 4.40304328e-15, 1.93361345e-13, 6.19198952e-17,\n",
       "        2.53860026e-17, 6.05133077e-14, 2.99369839e-12, 4.96390581e-13,\n",
       "        2.61585926e-17, 1.81632578e-14, 6.50082223e-16, 5.05480083e-15],\n",
       "       [2.81258762e-12, 2.61262835e-06, 5.41691088e-06, 3.16984742e-03,\n",
       "        9.94424432e-10, 2.39621204e-05, 1.97793497e-06, 3.29495493e-11,\n",
       "        9.74048149e-08, 6.16684162e-08, 2.63573503e-11, 2.68632213e-14,\n",
       "        3.11461239e-11, 2.54711877e-12, 1.03776507e-07, 1.05859307e-10,\n",
       "        8.75620346e-04, 7.99858952e-08, 3.37981991e-03, 4.97175912e-10,\n",
       "        2.05863603e-06, 1.29794397e-09, 4.20778790e-08, 6.67765213e-04,\n",
       "        2.94526838e-08, 1.77544411e-04, 1.19624929e-06, 4.50781412e-10,\n",
       "        1.14879214e-07, 4.91679430e-06, 5.71299381e-07, 3.06069046e-06,\n",
       "        2.90059338e-10, 1.36712275e-04, 5.28918076e-10, 1.70585157e-09],\n",
       "       [4.42280691e-11, 1.68258376e-11, 2.19723173e-09, 2.01520294e-07,\n",
       "        2.66121731e-07, 1.44483401e-11, 2.62506266e-08, 3.33922126e-12,\n",
       "        3.91733124e-07, 2.25563915e-10, 6.75620671e-11, 1.01295994e-11,\n",
       "        4.04363661e-11, 1.54751056e-11, 3.21604099e-09, 1.39083033e-11,\n",
       "        5.21140242e-10, 7.37732009e-09, 2.32790086e-07, 1.21943219e-11,\n",
       "        2.52289964e-12, 2.61770900e-11, 9.03992881e-10, 2.63668680e-05,\n",
       "        2.31824515e-08, 5.72175085e-10, 1.41587729e-12, 8.25612134e-10,\n",
       "        1.00638242e-09, 4.25376840e-07, 1.07237150e-10, 8.08940186e-08,\n",
       "        5.90825877e-09, 2.85917893e-02, 5.33445799e-14, 4.37282699e-09],\n",
       "       [2.29571555e-20, 5.34825699e-12, 6.53279137e-16, 9.54686552e-10,\n",
       "        3.77581066e-19, 4.22070012e-14, 4.40623406e-12, 1.24691853e-17,\n",
       "        1.18600588e-19, 9.02523906e-20, 2.20103777e-15, 2.22937191e-22,\n",
       "        1.50524753e-17, 2.10996751e-17, 1.19439944e-10, 2.17807475e-17,\n",
       "        3.29121259e-14, 3.12109117e-13, 2.81274284e-16, 2.52446698e-21,\n",
       "        1.81019194e-02, 2.09150535e-12, 7.84011261e-16, 1.71105367e-15,\n",
       "        2.51165993e-12, 8.29087667e-12, 1.44183545e-08, 5.25149829e-20,\n",
       "        3.04431794e-16, 1.21978122e-11, 2.51551824e-09, 2.71941558e-09,\n",
       "        3.73458944e-16, 3.25184207e-16, 2.67723484e-20, 4.76114013e-20],\n",
       "       [1.87815354e-11, 2.95479578e-11, 3.34759975e-09, 1.97640636e-11,\n",
       "        2.77145537e-12, 9.80062420e-11, 3.21976303e-15, 9.70922648e-12,\n",
       "        3.61933758e-07, 8.66896332e-09, 5.06987573e-14, 1.32071533e-11,\n",
       "        8.53812090e-11, 9.87869647e-11, 6.58847088e-10, 3.17172355e-09,\n",
       "        4.58877294e-12, 8.27218665e-13, 8.91241426e-14, 2.43125828e-06,\n",
       "        1.95495529e-13, 1.31121008e-11, 2.57215804e-09, 1.64350467e-06,\n",
       "        1.55918613e-01, 2.21429667e-12, 4.14072639e-16, 8.16307910e-10,\n",
       "        1.40390321e-11, 3.15867865e-08, 2.51311572e-09, 3.24687055e-09,\n",
       "        4.60364474e-14, 7.16927140e-09, 6.46849197e-12, 1.16652424e-10],\n",
       "       [1.18183085e-11, 1.31904585e-08, 1.04079549e-12, 4.94681076e-12,\n",
       "        1.52692292e-14, 1.12948356e-07, 3.68811036e-16, 6.67475963e-10,\n",
       "        1.41291673e-10, 6.07928041e-06, 5.80425256e-11, 1.75312033e-12,\n",
       "        3.34858904e-13, 9.09714903e-13, 6.55270890e-12, 5.90161342e-09,\n",
       "        3.82194330e-08, 3.43611445e-10, 1.02712193e-10, 5.67944944e-08,\n",
       "        4.80111562e-10, 4.18937210e-14, 3.49737270e-08, 1.50933033e-07,\n",
       "        2.37240366e-10, 2.49150935e-06, 6.22029598e-12, 4.71762962e-10,\n",
       "        6.49239738e-08, 6.07987835e-12, 4.58442571e-07, 1.54488156e-09,\n",
       "        2.43941667e-13, 2.40239251e-06, 1.07856043e-01, 1.57700408e-10]],\n",
       "      dtype=float32)"
      ]
     },
     "execution_count": 41,
     "metadata": {},
     "output_type": "execute_result"
    }
   ],
   "source": [
    "predictions"
   ]
  },
  {
   "cell_type": "code",
   "execution_count": 76,
   "metadata": {},
   "outputs": [
    {
     "data": {
      "text/plain": [
       "array([[[0., 0., 0.],\n",
       "        [0., 0., 0.],\n",
       "        [0., 0., 0.],\n",
       "        ...,\n",
       "        [0., 0., 0.],\n",
       "        [0., 0., 0.],\n",
       "        [0., 0., 0.]],\n",
       "\n",
       "       [[0., 0., 0.],\n",
       "        [0., 0., 0.],\n",
       "        [0., 0., 0.],\n",
       "        ...,\n",
       "        [0., 0., 0.],\n",
       "        [0., 0., 0.],\n",
       "        [0., 0., 0.]],\n",
       "\n",
       "       [[0., 0., 0.],\n",
       "        [0., 0., 0.],\n",
       "        [0., 0., 0.],\n",
       "        ...,\n",
       "        [0., 0., 0.],\n",
       "        [0., 0., 0.],\n",
       "        [0., 0., 0.]],\n",
       "\n",
       "       ...,\n",
       "\n",
       "       [[0., 0., 0.],\n",
       "        [0., 0., 0.],\n",
       "        [0., 0., 0.],\n",
       "        ...,\n",
       "        [0., 0., 0.],\n",
       "        [0., 0., 0.],\n",
       "        [0., 0., 0.]],\n",
       "\n",
       "       [[0., 0., 0.],\n",
       "        [0., 0., 0.],\n",
       "        [0., 0., 0.],\n",
       "        ...,\n",
       "        [0., 0., 0.],\n",
       "        [0., 0., 0.],\n",
       "        [0., 0., 0.]],\n",
       "\n",
       "       [[0., 0., 0.],\n",
       "        [0., 0., 0.],\n",
       "        [0., 0., 0.],\n",
       "        ...,\n",
       "        [0., 0., 0.],\n",
       "        [0., 0., 0.],\n",
       "        [0., 0., 0.]]], dtype=float32)"
      ]
     },
     "execution_count": 76,
     "metadata": {},
     "output_type": "execute_result"
    }
   ],
   "source": [
    "test_imgs[1]"
   ]
  },
  {
   "cell_type": "code",
   "execution_count": 3,
   "metadata": {},
   "outputs": [
    {
     "name": "stdout",
     "output_type": "stream",
     "text": [
      "[16]\n"
     ]
    }
   ],
   "source": [
    "from keras.models import load_model\n",
    "import cv2\n",
    "import numpy as np\n",
    "\n",
    "model = load_model('final_model.hs')\n",
    "\n",
    "model.compile(loss='categorical_crossentropy',\n",
    "              optimizer='sgd',\n",
    "              metrics=['accuracy'])\n",
    "\n",
    "img = cv2.imread('1026.png')\n",
    "img = cv2.resize(img,(150,150))\n",
    "img = np.reshape(img,[1,150,150,3])\n",
    "\n",
    "classes = model.predict_classes(img)\n",
    "\n",
    "print(classes)"
   ]
  },
  {
   "cell_type": "code",
   "execution_count": 53,
   "metadata": {
    "collapsed": true
   },
   "outputs": [],
   "source": [
    "def plot_confusion_matrix(cm, classes,\n",
    "                         normalize = False,\n",
    "                         title = 'Confusion Marix',\n",
    "                         cmap=plt.cm.Blues):\n",
    "    \n",
    "    \n",
    "    \n",
    "    plt.imshow(cm, Interpolation='nearest', cmap=cmap)\n",
    "    plt.title(title)\n",
    "    plt.colorbar()\n",
    "    tick_marks = np.arange(len(classes))\n",
    "    plt.xticks(tick_marks, classes, rotation= 45)\n",
    "    plt.yticks(tick_marks, classes)\n",
    "    \n",
    "    if normalize:\n",
    "        cm = cm.astype('float') / cm.sum(axis=1)[:, np.newaxis]\n",
    "        print(\"Normalized confusion marix\")\n",
    "        \n",
    "    else:\n",
    "        print(\"Confusion matrix, without normalization\")\n",
    "        \n",
    "    print(cm)\n",
    "    \n",
    "    thresh = cm.max() / 2\n",
    "    for i, j in itertools.product(range(cm.shape[0]), range(cm.shape[1])):\n",
    "        plt.text(j, i, cm[i, j],\n",
    "                horizontalalignment = \"center\",\n",
    "                 color=\"white\" if cm[i, j] > thresh else \"black\"\n",
    "                )\n",
    "        plt.tight_layout()\n",
    "        plt.ylabel(\"true label\")\n",
    "        plt.xlabel(\"Prediction label\")\n",
    "        "
   ]
  },
  {
   "cell_type": "code",
   "execution_count": 84,
   "metadata": {},
   "outputs": [],
   "source": [
    "rounded_predictions = model.predict_classes(test_imgs, batch_size = 10, verbose=0)"
   ]
  },
  {
   "cell_type": "code",
   "execution_count": 85,
   "metadata": {
    "scrolled": true
   },
   "outputs": [
    {
     "data": {
      "text/plain": [
       "array([ 7, 26,  6, 12, 21, 18, 33, 20, 24, 34], dtype=int64)"
      ]
     },
     "execution_count": 85,
     "metadata": {},
     "output_type": "execute_result"
    }
   ],
   "source": [
    "rounded_predictions"
   ]
  },
  {
   "cell_type": "code",
   "execution_count": 21,
   "metadata": {},
   "outputs": [
    {
     "name": "stdout",
     "output_type": "stream",
     "text": [
      "_________________________________________________________________\n",
      "Layer (type)                 Output Shape              Param #   \n",
      "=================================================================\n",
      "input_1 (InputLayer)         (None, 224, 224, 3)       0         \n",
      "_________________________________________________________________\n",
      "block1_conv1 (Conv2D)        (None, 224, 224, 64)      1792      \n",
      "_________________________________________________________________\n",
      "block1_conv2 (Conv2D)        (None, 224, 224, 64)      36928     \n",
      "_________________________________________________________________\n",
      "block1_pool (MaxPooling2D)   (None, 112, 112, 64)      0         \n",
      "_________________________________________________________________\n",
      "block2_conv1 (Conv2D)        (None, 112, 112, 128)     73856     \n",
      "_________________________________________________________________\n",
      "block2_conv2 (Conv2D)        (None, 112, 112, 128)     147584    \n",
      "_________________________________________________________________\n",
      "block2_pool (MaxPooling2D)   (None, 56, 56, 128)       0         \n",
      "_________________________________________________________________\n",
      "block3_conv1 (Conv2D)        (None, 56, 56, 256)       295168    \n",
      "_________________________________________________________________\n",
      "block3_conv2 (Conv2D)        (None, 56, 56, 256)       590080    \n",
      "_________________________________________________________________\n",
      "block3_conv3 (Conv2D)        (None, 56, 56, 256)       590080    \n",
      "_________________________________________________________________\n",
      "block3_pool (MaxPooling2D)   (None, 28, 28, 256)       0         \n",
      "_________________________________________________________________\n",
      "block4_conv1 (Conv2D)        (None, 28, 28, 512)       1180160   \n",
      "_________________________________________________________________\n",
      "block4_conv2 (Conv2D)        (None, 28, 28, 512)       2359808   \n",
      "_________________________________________________________________\n",
      "block4_conv3 (Conv2D)        (None, 28, 28, 512)       2359808   \n",
      "_________________________________________________________________\n",
      "block4_pool (MaxPooling2D)   (None, 14, 14, 512)       0         \n",
      "_________________________________________________________________\n",
      "block5_conv1 (Conv2D)        (None, 14, 14, 512)       2359808   \n",
      "_________________________________________________________________\n",
      "block5_conv2 (Conv2D)        (None, 14, 14, 512)       2359808   \n",
      "_________________________________________________________________\n",
      "block5_conv3 (Conv2D)        (None, 14, 14, 512)       2359808   \n",
      "_________________________________________________________________\n",
      "block5_pool (MaxPooling2D)   (None, 7, 7, 512)         0         \n",
      "_________________________________________________________________\n",
      "flatten (Flatten)            (None, 25088)             0         \n",
      "_________________________________________________________________\n",
      "fc1 (Dense)                  (None, 4096)              102764544 \n",
      "_________________________________________________________________\n",
      "fc2 (Dense)                  (None, 4096)              16781312  \n",
      "_________________________________________________________________\n",
      "predictions (Dense)          (None, 1000)              4097000   \n",
      "=================================================================\n",
      "Total params: 138,357,544\n",
      "Trainable params: 138,357,544\n",
      "Non-trainable params: 0\n",
      "_________________________________________________________________\n"
     ]
    }
   ],
   "source": [
    "vgg16_model.summary()"
   ]
  },
  {
   "cell_type": "code",
   "execution_count": 23,
   "metadata": {},
   "outputs": [
    {
     "data": {
      "text/plain": [
       "keras.engine.training.Model"
      ]
     },
     "execution_count": 23,
     "metadata": {},
     "output_type": "execute_result"
    }
   ],
   "source": [
    "type(vgg16_model)"
   ]
  },
  {
   "cell_type": "code",
   "execution_count": 24,
   "metadata": {},
   "outputs": [],
   "source": [
    "model = Sequential()\n",
    "for layer in vgg16_model.layers:\n",
    "    model.add(layer)"
   ]
  },
  {
   "cell_type": "code",
   "execution_count": 25,
   "metadata": {},
   "outputs": [
    {
     "name": "stdout",
     "output_type": "stream",
     "text": [
      "_________________________________________________________________\n",
      "Layer (type)                 Output Shape              Param #   \n",
      "=================================================================\n",
      "input_1 (InputLayer)         (None, 224, 224, 3)       0         \n",
      "_________________________________________________________________\n",
      "block1_conv1 (Conv2D)        (None, 224, 224, 64)      1792      \n",
      "_________________________________________________________________\n",
      "block1_conv2 (Conv2D)        (None, 224, 224, 64)      36928     \n",
      "_________________________________________________________________\n",
      "block1_pool (MaxPooling2D)   (None, 112, 112, 64)      0         \n",
      "_________________________________________________________________\n",
      "block2_conv1 (Conv2D)        (None, 112, 112, 128)     73856     \n",
      "_________________________________________________________________\n",
      "block2_conv2 (Conv2D)        (None, 112, 112, 128)     147584    \n",
      "_________________________________________________________________\n",
      "block2_pool (MaxPooling2D)   (None, 56, 56, 128)       0         \n",
      "_________________________________________________________________\n",
      "block3_conv1 (Conv2D)        (None, 56, 56, 256)       295168    \n",
      "_________________________________________________________________\n",
      "block3_conv2 (Conv2D)        (None, 56, 56, 256)       590080    \n",
      "_________________________________________________________________\n",
      "block3_conv3 (Conv2D)        (None, 56, 56, 256)       590080    \n",
      "_________________________________________________________________\n",
      "block3_pool (MaxPooling2D)   (None, 28, 28, 256)       0         \n",
      "_________________________________________________________________\n",
      "block4_conv1 (Conv2D)        (None, 28, 28, 512)       1180160   \n",
      "_________________________________________________________________\n",
      "block4_conv2 (Conv2D)        (None, 28, 28, 512)       2359808   \n",
      "_________________________________________________________________\n",
      "block4_conv3 (Conv2D)        (None, 28, 28, 512)       2359808   \n",
      "_________________________________________________________________\n",
      "block4_pool (MaxPooling2D)   (None, 14, 14, 512)       0         \n",
      "_________________________________________________________________\n",
      "block5_conv1 (Conv2D)        (None, 14, 14, 512)       2359808   \n",
      "_________________________________________________________________\n",
      "block5_conv2 (Conv2D)        (None, 14, 14, 512)       2359808   \n",
      "_________________________________________________________________\n",
      "block5_conv3 (Conv2D)        (None, 14, 14, 512)       2359808   \n",
      "_________________________________________________________________\n",
      "block5_pool (MaxPooling2D)   (None, 7, 7, 512)         0         \n",
      "_________________________________________________________________\n",
      "flatten (Flatten)            (None, 25088)             0         \n",
      "_________________________________________________________________\n",
      "fc1 (Dense)                  (None, 4096)              102764544 \n",
      "_________________________________________________________________\n",
      "fc2 (Dense)                  (None, 4096)              16781312  \n",
      "_________________________________________________________________\n",
      "predictions (Dense)          (None, 1000)              4097000   \n",
      "=================================================================\n",
      "Total params: 138,357,544\n",
      "Trainable params: 138,357,544\n",
      "Non-trainable params: 0\n",
      "_________________________________________________________________\n"
     ]
    }
   ],
   "source": [
    "model.summary()"
   ]
  },
  {
   "cell_type": "code",
   "execution_count": 26,
   "metadata": {},
   "outputs": [
    {
     "data": {
      "text/plain": [
       "<keras.layers.core.Dense at 0x1830a86feb8>"
      ]
     },
     "execution_count": 26,
     "metadata": {},
     "output_type": "execute_result"
    }
   ],
   "source": [
    "model.layers.pop()\n"
   ]
  },
  {
   "cell_type": "code",
   "execution_count": 27,
   "metadata": {},
   "outputs": [
    {
     "name": "stdout",
     "output_type": "stream",
     "text": [
      "_________________________________________________________________\n",
      "Layer (type)                 Output Shape              Param #   \n",
      "=================================================================\n",
      "input_1 (InputLayer)         (None, 224, 224, 3)       0         \n",
      "_________________________________________________________________\n",
      "block1_conv1 (Conv2D)        (None, 224, 224, 64)      1792      \n",
      "_________________________________________________________________\n",
      "block1_conv2 (Conv2D)        (None, 224, 224, 64)      36928     \n",
      "_________________________________________________________________\n",
      "block1_pool (MaxPooling2D)   (None, 112, 112, 64)      0         \n",
      "_________________________________________________________________\n",
      "block2_conv1 (Conv2D)        (None, 112, 112, 128)     73856     \n",
      "_________________________________________________________________\n",
      "block2_conv2 (Conv2D)        (None, 112, 112, 128)     147584    \n",
      "_________________________________________________________________\n",
      "block2_pool (MaxPooling2D)   (None, 56, 56, 128)       0         \n",
      "_________________________________________________________________\n",
      "block3_conv1 (Conv2D)        (None, 56, 56, 256)       295168    \n",
      "_________________________________________________________________\n",
      "block3_conv2 (Conv2D)        (None, 56, 56, 256)       590080    \n",
      "_________________________________________________________________\n",
      "block3_conv3 (Conv2D)        (None, 56, 56, 256)       590080    \n",
      "_________________________________________________________________\n",
      "block3_pool (MaxPooling2D)   (None, 28, 28, 256)       0         \n",
      "_________________________________________________________________\n",
      "block4_conv1 (Conv2D)        (None, 28, 28, 512)       1180160   \n",
      "_________________________________________________________________\n",
      "block4_conv2 (Conv2D)        (None, 28, 28, 512)       2359808   \n",
      "_________________________________________________________________\n",
      "block4_conv3 (Conv2D)        (None, 28, 28, 512)       2359808   \n",
      "_________________________________________________________________\n",
      "block4_pool (MaxPooling2D)   (None, 14, 14, 512)       0         \n",
      "_________________________________________________________________\n",
      "block5_conv1 (Conv2D)        (None, 14, 14, 512)       2359808   \n",
      "_________________________________________________________________\n",
      "block5_conv2 (Conv2D)        (None, 14, 14, 512)       2359808   \n",
      "_________________________________________________________________\n",
      "block5_conv3 (Conv2D)        (None, 14, 14, 512)       2359808   \n",
      "_________________________________________________________________\n",
      "block5_pool (MaxPooling2D)   (None, 7, 7, 512)         0         \n",
      "_________________________________________________________________\n",
      "flatten (Flatten)            (None, 25088)             0         \n",
      "_________________________________________________________________\n",
      "fc1 (Dense)                  (None, 4096)              102764544 \n",
      "_________________________________________________________________\n",
      "fc2 (Dense)                  (None, 4096)              16781312  \n",
      "=================================================================\n",
      "Total params: 134,260,544\n",
      "Trainable params: 134,260,544\n",
      "Non-trainable params: 0\n",
      "_________________________________________________________________\n"
     ]
    }
   ],
   "source": [
    "model.summary()"
   ]
  },
  {
   "cell_type": "code",
   "execution_count": 28,
   "metadata": {
    "collapsed": true
   },
   "outputs": [],
   "source": [
    "for layer in model.layers:\n",
    "    layer.trainable = False"
   ]
  },
  {
   "cell_type": "code",
   "execution_count": 29,
   "metadata": {
    "collapsed": true
   },
   "outputs": [],
   "source": [
    "model.add(Dense(36, activation='softmax'))"
   ]
  },
  {
   "cell_type": "code",
   "execution_count": 30,
   "metadata": {
    "scrolled": true
   },
   "outputs": [
    {
     "name": "stdout",
     "output_type": "stream",
     "text": [
      "_________________________________________________________________\n",
      "Layer (type)                 Output Shape              Param #   \n",
      "=================================================================\n",
      "input_1 (InputLayer)         (None, 224, 224, 3)       0         \n",
      "_________________________________________________________________\n",
      "block1_conv1 (Conv2D)        (None, 224, 224, 64)      1792      \n",
      "_________________________________________________________________\n",
      "block1_conv2 (Conv2D)        (None, 224, 224, 64)      36928     \n",
      "_________________________________________________________________\n",
      "block1_pool (MaxPooling2D)   (None, 112, 112, 64)      0         \n",
      "_________________________________________________________________\n",
      "block2_conv1 (Conv2D)        (None, 112, 112, 128)     73856     \n",
      "_________________________________________________________________\n",
      "block2_conv2 (Conv2D)        (None, 112, 112, 128)     147584    \n",
      "_________________________________________________________________\n",
      "block2_pool (MaxPooling2D)   (None, 56, 56, 128)       0         \n",
      "_________________________________________________________________\n",
      "block3_conv1 (Conv2D)        (None, 56, 56, 256)       295168    \n",
      "_________________________________________________________________\n",
      "block3_conv2 (Conv2D)        (None, 56, 56, 256)       590080    \n",
      "_________________________________________________________________\n",
      "block3_conv3 (Conv2D)        (None, 56, 56, 256)       590080    \n",
      "_________________________________________________________________\n",
      "block3_pool (MaxPooling2D)   (None, 28, 28, 256)       0         \n",
      "_________________________________________________________________\n",
      "block4_conv1 (Conv2D)        (None, 28, 28, 512)       1180160   \n",
      "_________________________________________________________________\n",
      "block4_conv2 (Conv2D)        (None, 28, 28, 512)       2359808   \n",
      "_________________________________________________________________\n",
      "block4_conv3 (Conv2D)        (None, 28, 28, 512)       2359808   \n",
      "_________________________________________________________________\n",
      "block4_pool (MaxPooling2D)   (None, 14, 14, 512)       0         \n",
      "_________________________________________________________________\n",
      "block5_conv1 (Conv2D)        (None, 14, 14, 512)       2359808   \n",
      "_________________________________________________________________\n",
      "block5_conv2 (Conv2D)        (None, 14, 14, 512)       2359808   \n",
      "_________________________________________________________________\n",
      "block5_conv3 (Conv2D)        (None, 14, 14, 512)       2359808   \n",
      "_________________________________________________________________\n",
      "block5_pool (MaxPooling2D)   (None, 7, 7, 512)         0         \n",
      "_________________________________________________________________\n",
      "flatten (Flatten)            (None, 25088)             0         \n",
      "_________________________________________________________________\n",
      "fc1 (Dense)                  (None, 4096)              102764544 \n",
      "_________________________________________________________________\n",
      "fc2 (Dense)                  (None, 4096)              16781312  \n",
      "_________________________________________________________________\n",
      "dense_1 (Dense)              (None, 36)                36036     \n",
      "=================================================================\n",
      "Total params: 134,296,580\n",
      "Trainable params: 36,036\n",
      "Non-trainable params: 134,260,544\n",
      "_________________________________________________________________\n"
     ]
    }
   ],
   "source": [
    "model.summary()"
   ]
  },
  {
   "cell_type": "code",
   "execution_count": 78,
   "metadata": {},
   "outputs": [],
   "source": [
    "model.compile(Adam(lr =0.0001), loss = 'categorical_crossentropy', metrics=['accuracy'])"
   ]
  },
  {
   "cell_type": "code",
   "execution_count": null,
   "metadata": {},
   "outputs": [
    {
     "name": "stdout",
     "output_type": "stream",
     "text": [
      "Epoch 1/40\n",
      " - 129s - loss: 3.5835 - acc: 0.0077 - val_loss: 3.5802 - val_acc: 0.0000e+00\n",
      "Epoch 2/40\n",
      " - 137s - loss: 3.5810 - acc: 0.0385 - val_loss: 3.5782 - val_acc: 0.0000e+00\n",
      "Epoch 3/40\n",
      " - 137s - loss: 3.5832 - acc: 0.0385 - val_loss: 3.5768 - val_acc: 0.0625\n",
      "Epoch 4/40\n",
      " - 137s - loss: 3.5802 - acc: 0.0538 - val_loss: 3.5734 - val_acc: 0.1250\n",
      "Epoch 5/40\n",
      " - 131s - loss: 3.5789 - acc: 0.0538 - val_loss: 3.5697 - val_acc: 0.1875\n",
      "Epoch 6/40\n",
      " - 134s - loss: 3.5769 - acc: 0.0692 - val_loss: 3.5705 - val_acc: 0.1250\n",
      "Epoch 7/40\n",
      " - 132s - loss: 3.5736 - acc: 0.0769 - val_loss: 3.5731 - val_acc: 0.1250\n",
      "Epoch 8/40\n",
      " - 131s - loss: 3.5725 - acc: 0.0923 - val_loss: 3.5681 - val_acc: 0.1250\n",
      "Epoch 9/40\n",
      " - 131s - loss: 3.5701 - acc: 0.1154 - val_loss: 3.5654 - val_acc: 0.0625\n",
      "Epoch 10/40\n",
      " - 131s - loss: 3.5705 - acc: 0.1000 - val_loss: 3.5652 - val_acc: 0.1250\n",
      "Epoch 11/40\n",
      " - 131s - loss: 3.5665 - acc: 0.1077 - val_loss: 3.5630 - val_acc: 0.1250\n",
      "Epoch 12/40\n",
      " - 130s - loss: 3.5673 - acc: 0.1154 - val_loss: 3.5653 - val_acc: 0.1875\n",
      "Epoch 13/40\n",
      " - 130s - loss: 3.5663 - acc: 0.0769 - val_loss: 3.5636 - val_acc: 0.1250\n",
      "Epoch 14/40\n",
      " - 129s - loss: 3.5627 - acc: 0.0769 - val_loss: 3.5604 - val_acc: 0.1875\n",
      "Epoch 15/40\n",
      " - 131s - loss: 3.5608 - acc: 0.1231 - val_loss: 3.5617 - val_acc: 0.0625\n",
      "Epoch 16/40\n",
      " - 130s - loss: 3.5642 - acc: 0.0692 - val_loss: 3.5630 - val_acc: 0.0625\n",
      "Epoch 17/40\n",
      " - 131s - loss: 3.5613 - acc: 0.1000 - val_loss: 3.5585 - val_acc: 0.2500\n",
      "Epoch 18/40\n",
      " - 131s - loss: 3.5629 - acc: 0.0769 - val_loss: 3.5534 - val_acc: 0.1250\n",
      "Epoch 19/40\n",
      " - 130s - loss: 3.5592 - acc: 0.1154 - val_loss: 3.5530 - val_acc: 0.1875\n",
      "Epoch 20/40\n",
      " - 130s - loss: 3.5544 - acc: 0.1462 - val_loss: 3.5553 - val_acc: 0.2500\n",
      "Epoch 21/40\n"
     ]
    }
   ],
   "source": [
    "model.fit_generator(train_batches, steps_per_epoch=12.5,\n",
    "                   validation_data=valid_batches, validation_steps=4, epochs=40, verbose=2)"
   ]
  },
  {
   "cell_type": "code",
   "execution_count": 31,
   "metadata": {
    "collapsed": true
   },
   "outputs": [],
   "source": [
    "test_imgs, test_labels = next(test_batches)"
   ]
  },
  {
   "cell_type": "code",
   "execution_count": 32,
   "metadata": {},
   "outputs": [
    {
     "data": {
      "image/png": "[encoded data removed]",
      "text/plain": [
       "<matplotlib.figure.Figure at 0x1830a206c88>"
      ]
     },
     "metadata": {},
     "output_type": "display_data"
    }
   ],
   "source": [
    "plots(test_imgs, titles = test_labels)"
   ]
  },
  {
   "cell_type": "code",
   "execution_count": 33,
   "metadata": {},
   "outputs": [
    {
     "data": {
      "text/plain": [
       "array([0., 0., 0., 0., 0., 0., 0., 0., 0., 0.], dtype=float32)"
      ]
     },
     "execution_count": 33,
     "metadata": {},
     "output_type": "execute_result"
    }
   ],
   "source": [
    "test_label = test_labels[:,0]\n",
    "test_label"
   ]
  },
  {
   "cell_type": "code",
   "execution_count": null,
   "metadata": {},
   "outputs": [
    {
     "name": "stdout",
     "output_type": "stream",
     "text": [
      "Epoch 1/40\n",
      " - 46s - loss: 3.5826 - acc: 0.0250 - val_loss: 3.5881 - val_acc: 0.0625\n",
      "Epoch 2/40\n",
      " - 41s - loss: 3.5847 - acc: 0.0750 - val_loss: 3.5874 - val_acc: 0.0625\n",
      "Epoch 3/40\n",
      " - 41s - loss: 3.5817 - acc: 0.1000 - val_loss: 3.5860 - val_acc: 0.0625\n",
      "Epoch 4/40\n",
      " - 41s - loss: 3.5765 - acc: 0.1000 - val_loss: 3.5851 - val_acc: 0.0625\n",
      "Epoch 5/40\n",
      " - 41s - loss: 3.5797 - acc: 0.0750 - val_loss: 3.5866 - val_acc: 0.0625\n",
      "Epoch 6/40\n",
      " - 42s - loss: 3.5812 - acc: 0.0750 - val_loss: 3.5883 - val_acc: 0.0625\n",
      "Epoch 7/40\n",
      " - 41s - loss: 3.5836 - acc: 0.1000 - val_loss: 3.5891 - val_acc: 0.0625\n",
      "Epoch 8/40\n",
      " - 41s - loss: 3.5810 - acc: 0.1000 - val_loss: 3.5892 - val_acc: 0.0625\n",
      "Epoch 9/40\n",
      " - 41s - loss: 3.5805 - acc: 0.1000 - val_loss: 3.5887 - val_acc: 0.0625\n",
      "Epoch 10/40\n",
      " - 41s - loss: 3.5762 - acc: 0.1250 - val_loss: 3.5886 - val_acc: 0.0625\n",
      "Epoch 11/40\n",
      " - 41s - loss: 3.5785 - acc: 0.0750 - val_loss: 3.5886 - val_acc: 0.0625\n",
      "Epoch 12/40\n",
      " - 42s - loss: 3.5812 - acc: 0.0000e+00 - val_loss: 3.5888 - val_acc: 0.0625\n",
      "Epoch 13/40\n",
      " - 41s - loss: 3.5775 - acc: 0.0500 - val_loss: 3.5886 - val_acc: 0.0625\n",
      "Epoch 14/40\n",
      " - 41s - loss: 3.5791 - acc: 0.1500 - val_loss: 3.5879 - val_acc: 0.0625\n",
      "Epoch 15/40\n",
      " - 42s - loss: 3.5785 - acc: 0.1500 - val_loss: 3.5855 - val_acc: 0.0625\n",
      "Epoch 16/40\n",
      " - 41s - loss: 3.5705 - acc: 0.1750 - val_loss: 3.5828 - val_acc: 0.0000e+00\n",
      "Epoch 17/40\n",
      " - 41s - loss: 3.5717 - acc: 0.1500 - val_loss: 3.5800 - val_acc: 0.0625\n",
      "Epoch 18/40\n",
      " - 41s - loss: 3.5788 - acc: 0.0750 - val_loss: 3.5780 - val_acc: 0.0625\n",
      "Epoch 19/40\n",
      " - 41s - loss: 3.5833 - acc: 0.0250 - val_loss: 3.5774 - val_acc: 0.0625\n",
      "Epoch 20/40\n",
      " - 41s - loss: 3.5785 - acc: 0.1000 - val_loss: 3.5772 - val_acc: 0.0625\n",
      "Epoch 21/40\n",
      " - 42s - loss: 3.5747 - acc: 0.1500 - val_loss: 3.5773 - val_acc: 0.0625\n",
      "Epoch 22/40\n",
      " - 41s - loss: 3.5727 - acc: 0.1000 - val_loss: 3.5774 - val_acc: 0.0625\n",
      "Epoch 23/40\n",
      " - 40s - loss: 3.5762 - acc: 0.0000e+00 - val_loss: 3.5763 - val_acc: 0.0625\n",
      "Epoch 24/40\n",
      " - 41s - loss: 3.5810 - acc: 0.0500 - val_loss: 3.5751 - val_acc: 0.1250\n",
      "Epoch 25/40\n",
      " - 41s - loss: 3.5752 - acc: 0.1000 - val_loss: 3.5747 - val_acc: 0.1250\n",
      "Epoch 26/40\n",
      " - 40s - loss: 3.5803 - acc: 0.0500 - val_loss: 3.5740 - val_acc: 0.1250\n",
      "Epoch 27/40\n",
      " - 41s - loss: 3.5749 - acc: 0.0750 - val_loss: 3.5734 - val_acc: 0.1250\n",
      "Epoch 28/40\n",
      " - 41s - loss: 3.5721 - acc: 0.0500 - val_loss: 3.5728 - val_acc: 0.1250\n",
      "Epoch 29/40\n",
      " - 41s - loss: 3.5763 - acc: 0.0250 - val_loss: 3.5726 - val_acc: 0.0625\n",
      "Epoch 30/40\n",
      " - 43s - loss: 3.5732 - acc: 0.1250 - val_loss: 3.5717 - val_acc: 0.1250\n",
      "Epoch 31/40\n",
      " - 46s - loss: 3.5729 - acc: 0.0250 - val_loss: 3.5709 - val_acc: 0.1250\n",
      "Epoch 32/40\n",
      " - 46s - loss: 3.5751 - acc: 0.1500 - val_loss: 3.5700 - val_acc: 0.0625\n",
      "Epoch 33/40\n"
     ]
    }
   ],
   "source": [
    "model.compile(Adam(lr =0.0001), loss = 'categorical_crossentropy', metrics=['accuracy'])\n",
    "model.fit_generator(train_batches, steps_per_epoch=4,\n",
    "                   validation_data=valid_batches, validation_steps=4, epochs=40, verbose=2)"
   ]
  },
  {
   "cell_type": "code",
   "execution_count": 55,
   "metadata": {},
   "outputs": [],
   "source": [
    "predictions1 = model.predict_generator(test_batches, steps=1, verbose=0)"
   ]
  },
  {
   "cell_type": "code",
   "execution_count": 56,
   "metadata": {},
   "outputs": [
    {
     "data": {
      "text/plain": [
       "array([[1.07098072e-19, 1.29082241e-15, 3.05789109e-11, 1.46812277e-13,\n",
       "        1.50189052e-08, 8.48656604e-16, 1.61344106e-14, 4.98649571e-03,\n",
       "        5.01874291e-20, 2.84148355e-05, 2.17567868e-21, 1.53704550e-13,\n",
       "        1.42135526e-10, 1.33971899e-18, 5.58418911e-17, 6.84778174e-20,\n",
       "        2.45355997e-17, 6.72126732e-16, 2.05435170e-13, 2.62543520e-14,\n",
       "        2.81794097e-16, 3.61019901e-17, 1.85544854e-14, 5.87772365e-19,\n",
       "        1.36399928e-15, 9.01767178e-19, 2.29557403e-21, 2.09534159e-13,\n",
       "        1.74903860e-16, 6.44774450e-17, 5.54417948e-13, 8.18088915e-19,\n",
       "        3.02335444e-19, 6.40021348e-14, 2.53012288e-16, 2.37381937e-11],\n",
       "       [5.43205174e-17, 8.50534088e-10, 2.96122024e-12, 8.08801776e-11,\n",
       "        2.93896028e-16, 7.04649672e-10, 1.02714452e-12, 1.73848854e-16,\n",
       "        1.16231010e-23, 1.51060100e-12, 4.52757476e-09, 4.56030132e-20,\n",
       "        1.11924332e-13, 7.52467072e-14, 1.55311470e-14, 7.15525458e-13,\n",
       "        2.74820829e-13, 3.72475349e-11, 1.55716945e-14, 1.99629850e-13,\n",
       "        4.85504378e-13, 6.50720329e-22, 5.39821174e-11, 2.85442242e-16,\n",
       "        1.01066184e-14, 9.91786687e-12, 1.86568618e-01, 1.59733359e-12,\n",
       "        2.77465800e-10, 1.29732631e-11, 4.89296798e-15, 8.78814299e-10,\n",
       "        1.51444465e-11, 7.58572756e-14, 9.02388854e-14, 3.80360518e-14],\n",
       "       [2.16380513e-14, 3.13313681e-11, 5.35539503e-15, 2.70424181e-07,\n",
       "        1.66587488e-09, 2.66788275e-11, 2.21881911e-01, 1.24935631e-17,\n",
       "        1.97843749e-13, 5.47363312e-17, 8.67781218e-17, 8.55445622e-18,\n",
       "        6.54238079e-07, 8.20457657e-08, 7.08224182e-18, 2.06997118e-16,\n",
       "        3.13375032e-16, 1.60445124e-04, 1.79340648e-17, 2.72844616e-12,\n",
       "        4.80279844e-11, 3.80589860e-14, 5.17843849e-17, 1.12350649e-16,\n",
       "        5.90674496e-14, 3.20868041e-14, 5.76913761e-09, 1.23122965e-19,\n",
       "        3.62754970e-18, 2.94878542e-13, 3.77466782e-14, 5.30090949e-09,\n",
       "        4.82201410e-13, 4.62476953e-13, 1.17708187e-11, 2.43037442e-13],\n",
       "       [5.10005856e-14, 3.09524850e-10, 8.07887091e-12, 1.03806651e-10,\n",
       "        4.14530319e-07, 1.05401018e-20, 1.22700829e-14, 2.63714224e-08,\n",
       "        2.42871577e-24, 1.05705256e-12, 1.93633985e-14, 1.32797329e-10,\n",
       "        2.61117052e-02, 2.89549984e-08, 6.90592447e-17, 3.41392553e-16,\n",
       "        1.55863120e-18, 2.21500429e-10, 2.07663680e-14, 3.09642608e-16,\n",
       "        3.73518837e-12, 1.45169598e-18, 5.04638442e-10, 9.25008352e-22,\n",
       "        2.55471977e-15, 9.37820649e-14, 9.07725611e-16, 1.21963046e-14,\n",
       "        3.65906264e-11, 4.24480635e-18, 4.08755163e-14, 4.02352551e-15,\n",
       "        1.09312895e-12, 4.21090816e-17, 1.26916833e-14, 3.60951232e-16],\n",
       "       [1.30209676e-10, 1.13314805e-12, 7.34806210e-18, 5.08989899e-12,\n",
       "        1.77152591e-13, 7.94408957e-18, 3.70332596e-14, 5.50070078e-16,\n",
       "        7.01761566e-11, 5.03095086e-21, 4.87685527e-20, 4.06868306e-17,\n",
       "        2.01312335e-16, 2.87835506e-18, 4.73808072e-14, 8.14284619e-18,\n",
       "        1.92696025e-17, 3.34888286e-13, 3.94075750e-21, 6.90295514e-15,\n",
       "        1.37982056e-10, 3.39578129e-02, 4.06989157e-18, 2.50379498e-17,\n",
       "        1.15845885e-12, 4.40304328e-15, 1.93361345e-13, 6.19198952e-17,\n",
       "        2.53860026e-17, 6.05133077e-14, 2.99369839e-12, 4.96390581e-13,\n",
       "        2.61585926e-17, 1.81632578e-14, 6.50082223e-16, 5.05480083e-15],\n",
       "       [2.81258762e-12, 2.61262835e-06, 5.41691088e-06, 3.16984742e-03,\n",
       "        9.94424432e-10, 2.39621204e-05, 1.97793497e-06, 3.29495493e-11,\n",
       "        9.74048149e-08, 6.16684162e-08, 2.63573503e-11, 2.68632213e-14,\n",
       "        3.11461239e-11, 2.54711877e-12, 1.03776507e-07, 1.05859307e-10,\n",
       "        8.75620346e-04, 7.99858952e-08, 3.37981991e-03, 4.97175912e-10,\n",
       "        2.05863603e-06, 1.29794397e-09, 4.20778790e-08, 6.67765213e-04,\n",
       "        2.94526838e-08, 1.77544411e-04, 1.19624929e-06, 4.50781412e-10,\n",
       "        1.14879214e-07, 4.91679430e-06, 5.71299381e-07, 3.06069046e-06,\n",
       "        2.90059338e-10, 1.36712275e-04, 5.28918076e-10, 1.70585157e-09],\n",
       "       [4.42280691e-11, 1.68258376e-11, 2.19723173e-09, 2.01520294e-07,\n",
       "        2.66121731e-07, 1.44483401e-11, 2.62506266e-08, 3.33922126e-12,\n",
       "        3.91733124e-07, 2.25563915e-10, 6.75620671e-11, 1.01295994e-11,\n",
       "        4.04363661e-11, 1.54751056e-11, 3.21604099e-09, 1.39083033e-11,\n",
       "        5.21140242e-10, 7.37732009e-09, 2.32790086e-07, 1.21943219e-11,\n",
       "        2.52289964e-12, 2.61770900e-11, 9.03992881e-10, 2.63668680e-05,\n",
       "        2.31824515e-08, 5.72175085e-10, 1.41587729e-12, 8.25612134e-10,\n",
       "        1.00638242e-09, 4.25376840e-07, 1.07237150e-10, 8.08940186e-08,\n",
       "        5.90825877e-09, 2.85917893e-02, 5.33445799e-14, 4.37282699e-09],\n",
       "       [2.29571555e-20, 5.34825699e-12, 6.53279137e-16, 9.54686552e-10,\n",
       "        3.77581066e-19, 4.22070012e-14, 4.40623406e-12, 1.24691853e-17,\n",
       "        1.18600588e-19, 9.02523906e-20, 2.20103777e-15, 2.22937191e-22,\n",
       "        1.50524753e-17, 2.10996751e-17, 1.19439944e-10, 2.17807475e-17,\n",
       "        3.29121259e-14, 3.12109117e-13, 2.81274284e-16, 2.52446698e-21,\n",
       "        1.81019194e-02, 2.09150535e-12, 7.84011261e-16, 1.71105367e-15,\n",
       "        2.51165993e-12, 8.29087667e-12, 1.44183545e-08, 5.25149829e-20,\n",
       "        3.04431794e-16, 1.21978122e-11, 2.51551824e-09, 2.71941558e-09,\n",
       "        3.73458944e-16, 3.25184207e-16, 2.67723484e-20, 4.76114013e-20],\n",
       "       [1.87815354e-11, 2.95479578e-11, 3.34759975e-09, 1.97640636e-11,\n",
       "        2.77145537e-12, 9.80062420e-11, 3.21976303e-15, 9.70922648e-12,\n",
       "        3.61933758e-07, 8.66896332e-09, 5.06987573e-14, 1.32071533e-11,\n",
       "        8.53812090e-11, 9.87869647e-11, 6.58847088e-10, 3.17172355e-09,\n",
       "        4.58877294e-12, 8.27218665e-13, 8.91241426e-14, 2.43125828e-06,\n",
       "        1.95495529e-13, 1.31121008e-11, 2.57215804e-09, 1.64350467e-06,\n",
       "        1.55918613e-01, 2.21429667e-12, 4.14072639e-16, 8.16307910e-10,\n",
       "        1.40390321e-11, 3.15867865e-08, 2.51311572e-09, 3.24687055e-09,\n",
       "        4.60364474e-14, 7.16927140e-09, 6.46849197e-12, 1.16652424e-10],\n",
       "       [1.18183085e-11, 1.31904585e-08, 1.04079549e-12, 4.94681076e-12,\n",
       "        1.52692292e-14, 1.12948356e-07, 3.68811036e-16, 6.67475963e-10,\n",
       "        1.41291673e-10, 6.07928041e-06, 5.80425256e-11, 1.75312033e-12,\n",
       "        3.34858904e-13, 9.09714903e-13, 6.55270890e-12, 5.90161342e-09,\n",
       "        3.82194330e-08, 3.43611445e-10, 1.02712193e-10, 5.67944944e-08,\n",
       "        4.80111562e-10, 4.18937210e-14, 3.49737270e-08, 1.50933033e-07,\n",
       "        2.37240366e-10, 2.49150935e-06, 6.22029598e-12, 4.71762962e-10,\n",
       "        6.49239738e-08, 6.07987835e-12, 4.58442571e-07, 1.54488156e-09,\n",
       "        2.43941667e-13, 2.40239251e-06, 1.07856043e-01, 1.57700408e-10]],\n",
       "      dtype=float32)"
      ]
     },
     "execution_count": 56,
     "metadata": {},
     "output_type": "execute_result"
    }
   ],
   "source": [
    "predictions1\n"
   ]
  },
  {
   "cell_type": "code",
   "execution_count": 57,
   "metadata": {},
   "outputs": [
    {
     "ename": "ValueError",
     "evalue": "Found input variables with inconsistent numbers of samples: [36, 10]",
     "output_type": "error",
     "traceback": [
      "\u001b[0;31m---------------------------------------------------------------------------\u001b[0m",
      "\u001b[0;31mValueError\u001b[0m                                Traceback (most recent call last)",
      "\u001b[0;32m<ipython-input-57-7a4aa47888ea>\u001b[0m in \u001b[0;36m<module>\u001b[0;34m()\u001b[0m\n\u001b[0;32m----> 1\u001b[0;31m \u001b[0mcm1\u001b[0m \u001b[1;33m=\u001b[0m \u001b[0mconfusion_matrix\u001b[0m\u001b[1;33m(\u001b[0m\u001b[0mtest_label\u001b[0m\u001b[1;33m,\u001b[0m \u001b[0mpredictions1\u001b[0m\u001b[1;33m)\u001b[0m\u001b[1;33m\u001b[0m\u001b[0m\n\u001b[0m",
      "\u001b[0;32mC:\\Users\\Akash\\Anaconda3\\lib\\site-packages\\sklearn\\metrics\\classification.py\u001b[0m in \u001b[0;36mconfusion_matrix\u001b[0;34m(y_true, y_pred, labels, sample_weight)\u001b[0m\n\u001b[1;32m    238\u001b[0m \u001b[1;33m\u001b[0m\u001b[0m\n\u001b[1;32m    239\u001b[0m     \"\"\"\n\u001b[0;32m--> 240\u001b[0;31m     \u001b[0my_type\u001b[0m\u001b[1;33m,\u001b[0m \u001b[0my_true\u001b[0m\u001b[1;33m,\u001b[0m \u001b[0my_pred\u001b[0m \u001b[1;33m=\u001b[0m \u001b[0m_check_targets\u001b[0m\u001b[1;33m(\u001b[0m\u001b[0my_true\u001b[0m\u001b[1;33m,\u001b[0m \u001b[0my_pred\u001b[0m\u001b[1;33m)\u001b[0m\u001b[1;33m\u001b[0m\u001b[0m\n\u001b[0m\u001b[1;32m    241\u001b[0m     \u001b[1;32mif\u001b[0m \u001b[0my_type\u001b[0m \u001b[1;32mnot\u001b[0m \u001b[1;32min\u001b[0m \u001b[1;33m(\u001b[0m\u001b[1;34m\"binary\"\u001b[0m\u001b[1;33m,\u001b[0m \u001b[1;34m\"multiclass\"\u001b[0m\u001b[1;33m)\u001b[0m\u001b[1;33m:\u001b[0m\u001b[1;33m\u001b[0m\u001b[0m\n\u001b[1;32m    242\u001b[0m         \u001b[1;32mraise\u001b[0m \u001b[0mValueError\u001b[0m\u001b[1;33m(\u001b[0m\u001b[1;34m\"%s is not supported\"\u001b[0m \u001b[1;33m%\u001b[0m \u001b[0my_type\u001b[0m\u001b[1;33m)\u001b[0m\u001b[1;33m\u001b[0m\u001b[0m\n",
      "\u001b[0;32mC:\\Users\\Akash\\Anaconda3\\lib\\site-packages\\sklearn\\metrics\\classification.py\u001b[0m in \u001b[0;36m_check_targets\u001b[0;34m(y_true, y_pred)\u001b[0m\n\u001b[1;32m     70\u001b[0m     \u001b[0my_pred\u001b[0m \u001b[1;33m:\u001b[0m \u001b[0marray\u001b[0m \u001b[1;32mor\u001b[0m \u001b[0mindicator\u001b[0m \u001b[0mmatrix\u001b[0m\u001b[1;33m\u001b[0m\u001b[0m\n\u001b[1;32m     71\u001b[0m     \"\"\"\n\u001b[0;32m---> 72\u001b[0;31m     \u001b[0mcheck_consistent_length\u001b[0m\u001b[1;33m(\u001b[0m\u001b[0my_true\u001b[0m\u001b[1;33m,\u001b[0m \u001b[0my_pred\u001b[0m\u001b[1;33m)\u001b[0m\u001b[1;33m\u001b[0m\u001b[0m\n\u001b[0m\u001b[1;32m     73\u001b[0m     \u001b[0mtype_true\u001b[0m \u001b[1;33m=\u001b[0m \u001b[0mtype_of_target\u001b[0m\u001b[1;33m(\u001b[0m\u001b[0my_true\u001b[0m\u001b[1;33m)\u001b[0m\u001b[1;33m\u001b[0m\u001b[0m\n\u001b[1;32m     74\u001b[0m     \u001b[0mtype_pred\u001b[0m \u001b[1;33m=\u001b[0m \u001b[0mtype_of_target\u001b[0m\u001b[1;33m(\u001b[0m\u001b[0my_pred\u001b[0m\u001b[1;33m)\u001b[0m\u001b[1;33m\u001b[0m\u001b[0m\n",
      "\u001b[0;32mC:\\Users\\Akash\\Anaconda3\\lib\\site-packages\\sklearn\\utils\\validation.py\u001b[0m in \u001b[0;36mcheck_consistent_length\u001b[0;34m(*arrays)\u001b[0m\n\u001b[1;32m    179\u001b[0m     \u001b[1;32mif\u001b[0m \u001b[0mlen\u001b[0m\u001b[1;33m(\u001b[0m\u001b[0muniques\u001b[0m\u001b[1;33m)\u001b[0m \u001b[1;33m>\u001b[0m \u001b[1;36m1\u001b[0m\u001b[1;33m:\u001b[0m\u001b[1;33m\u001b[0m\u001b[0m\n\u001b[1;32m    180\u001b[0m         raise ValueError(\"Found input variables with inconsistent numbers of\"\n\u001b[0;32m--> 181\u001b[0;31m                          \" samples: %r\" % [int(l) for l in lengths])\n\u001b[0m\u001b[1;32m    182\u001b[0m \u001b[1;33m\u001b[0m\u001b[0m\n\u001b[1;32m    183\u001b[0m \u001b[1;33m\u001b[0m\u001b[0m\n",
      "\u001b[0;31mValueError\u001b[0m: Found input variables with inconsistent numbers of samples: [36, 10]"
     ]
    }
   ],
   "source": [
    "cm1 = confusion_matrix(test_label, predictions1)"
   ]
  },
  {
   "cell_type": "code",
   "execution_count": null,
   "metadata": {
    "collapsed": true
   },
   "outputs": [],
   "source": []
  }
 ],
 "metadata": {
  "kernelspec": {
   "display_name": "Python 3",
   "language": "python",
   "name": "python3"
  },
  "language_info": {
   "codemirror_mode": {
    "name": "ipython",
    "version": 3
   },
   "file_extension": ".py",
   "mimetype": "text/x-python",
   "name": "python",
   "nbconvert_exporter": "python",
   "pygments_lexer": "ipython3",
   "version": "3.6.4"
  }
 },
 "nbformat": 4,
 "nbformat_minor": 2
}
