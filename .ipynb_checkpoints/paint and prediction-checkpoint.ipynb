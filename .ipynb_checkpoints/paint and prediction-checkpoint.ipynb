{
 "cells": [
  {
   "cell_type": "code",
   "execution_count": 1,
   "metadata": {},
   "outputs": [
    {
     "name": "stderr",
     "output_type": "stream",
     "text": [
      "C:\\Users\\DELL\\Anaconda3\\lib\\site-packages\\h5py\\__init__.py:36: FutureWarning: Conversion of the second argument of issubdtype from `float` to `np.floating` is deprecated. In future, it will be treated as `np.float64 == np.dtype(float).type`.\n",
      "  from ._conv import register_converters as _register_converters\n",
      "Using TensorFlow backend.\n"
     ]
    }
   ],
   "source": [
    "from keras.models import load_model\n",
    "import cv2\n",
    "import numpy as np\n",
    "\n",
    "model = load_model('final_model.hs')\n",
    "\n",
    "model.compile(loss='categorical_crossentropy',\n",
    "              optimizer='sgd',\n",
    "              metrics=['accuracy'])"
   ]
  },
  {
   "cell_type": "code",
   "execution_count": null,
   "metadata": {},
   "outputs": [],
   "source": []
  },
  {
   "cell_type": "code",
   "execution_count": null,
   "metadata": {},
   "outputs": [],
   "source": []
  },
  {
   "cell_type": "code",
   "execution_count": 2,
   "metadata": {},
   "outputs": [],
   "source": [
    "    dict = {}\n",
    "    dict['[0]'] = '\\u0915'\n",
    "    dict['[1]'] = '\\u0916'\n",
    "    dict['[2]'] = '\\u0917'\n",
    "    dict['[3]'] = '\\u0918'\n",
    "    dict['[4]'] = '\\u0919'\n",
    "    dict['[5]'] = '\\u091A'\n",
    "    dict['[6]'] = '\\u091B'\n",
    "    dict['[7]'] = '\\u091C'\n",
    "    dict['[8]'] = '\\u091D'\n",
    "    dict['[9]'] = '\\u091E'\n",
    "    dict['[10]']= '\\u091F'\n",
    "    dict['[11]'] = '\\u0920'\n",
    "    dict['[12]'] = '\\u0921'\n",
    "    dict['[13]'] = '\\u0922'\n",
    "    dict['[14]'] = '\\u0923'\n",
    "    dict['[15]'] = '\\u0924'\n",
    "    dict['[16]'] = '\\u0925'\n",
    "    dict['[17]'] = '\\u0926'\n",
    "    dict['[18]'] = '\\u0927'\n",
    "    dict['[19]'] = '\\u0928'\n",
    "    dict['[20]'] = '\\u092A'\n",
    "    dict['[21]'] = '\\u092B'\n",
    "    dict['[22]'] = '\\u092C'\n",
    "    dict['[23]'] = '\\u092D'\n",
    "    dict['[24]'] = '\\u092E'\n",
    "    dict['[25]'] = '\\u092F'\n",
    "    dict['[26]'] = '\\u0930'\n",
    "    dict['[27]'] = '\\u0932'\n",
    "    dict['[28]'] = '\\u0935'\n",
    "    dict['[29]'] = '\\u0936'\n",
    "    dict['[30]'] = '\\u0937'\n",
    "    dict['[31]'] = '\\u0938'\n",
    "    dict['[32]'] = '\\u0939'\n",
    "    dict['[33]'] = 'alpha'\n",
    "    dict['[34]'] = 'gamma'\n",
    "    dict['[35]'] = 'omega'\n"
   ]
  },
  {
   "cell_type": "code",
   "execution_count": null,
   "metadata": {},
   "outputs": [],
   "source": [
    "from PIL import ImageTk, Image, ImageDraw\n",
    "import PIL\n",
    "from tkinter import *\n",
    "\n",
    "width = 200\n",
    "height = 200\n",
    "center = height//2\n",
    "white = (255, 255, 255)\n",
    "green = (0,128,0)\n",
    "\n",
    "def main():\n",
    "\n",
    "#     root = Tk()\n",
    "\n",
    "#     # Tkinter create a canvas to draw on\n",
    "#     cv = Canvas(root, width=width, height=height, bg='white')\n",
    "#     cv.pack()\n",
    "\n",
    "#     # PIL create an empty image and draw object to draw on\n",
    "#     # memory only, not visible\n",
    "#     image1 = PIL.Image.new(\"RGB\", (width, height), white)\n",
    "#     draw = ImageDraw.Draw(image1)\n",
    "\n",
    "#     # do the Tkinter canvas drawings (visible)\n",
    "#     # cv.create_line([0, center, width, center], fill='green')\n",
    "\n",
    "#     cv.pack(expand=NO, fill=NONE)\n",
    "#     cv.bind(\"<B1-Motion>\", paint)\n",
    "\n",
    "#     # do the PIL image/draw (in memory) drawings\n",
    "#     # draw.line([0, center, width, center], green)\n",
    "\n",
    "#     # PIL image can be saved as .png .jpg .gif or .bmp file (among others)\n",
    "#     # filename = \"my_drawing.png\"\n",
    "#     # image1.save(filename)\n",
    "#     button=Button(text=\"save\",command=save)\n",
    "#     button.pack()\n",
    "#     root.mainloop()\n",
    "\n",
    "    print(\"efjeffje\")\n",
    "\n",
    "\n",
    "\n",
    "def save():\n",
    "    filename = \"image.png\"\n",
    "    image1.save(filename)\n",
    "    resize(filename)\n",
    "\n",
    "def paint(event):\n",
    "    # python_green = \"#476042\"\n",
    "    x1, y1 = (event.x - 1), (event.y - 1)\n",
    "    x2, y2 = (event.x + 1), (event.y + 1)\n",
    "    cv.create_oval(x1, y1, x2, y2, fill=\"black\",width=5)\n",
    "    draw.line([x1, y1, x2, y2],fill=\"black\",width=1)\n",
    "    \n",
    "\n",
    "\n",
    "def resize(image):\n",
    "\n",
    "# code for converting black and white to white and black\n",
    "    from PIL import Image\n",
    "    from matplotlib import pyplot as plt\n",
    "    %matplotlib inline\n",
    "\n",
    "    img1 = Image.open(image)\n",
    "\n",
    "    width, height = img1.size\n",
    "    px = img1.load()\n",
    "    for i in range(width):\n",
    "        for j in range(height):\n",
    "            if ( px[i,j] < (150,150,150) ):\n",
    "                px[i,j] = (255, 255, 255)\n",
    "            elif ( px[i,j] > (150,150,150) ):\n",
    "                px[i,j] = (0,0,0)\n",
    "\n",
    "\n",
    "\n",
    "    img1.save(\"ConvertedImg1.png\", \"PNG\")\n",
    "\n",
    "\n",
    "    # code for croping the image\n",
    "\n",
    "    im2 = Image.open(\"ConvertedImg1.png\")\n",
    "\n",
    "    img = im2.load()\n",
    "\n",
    "    width , height = im2.size\n",
    "\n",
    "    posX = []\n",
    "\n",
    "    for i in range(width):\n",
    "        for j in range(height):\n",
    "            if (img[i,j] == (255,255,255)):\n",
    "                posX.append([i,j])\n",
    "            else:\n",
    "                pass\n",
    "\n",
    "    x = []\n",
    "    y = []\n",
    "\n",
    "    for i in range(len(posX)):\n",
    "        x.append(posX[i][0])\n",
    "        y.append(posX[i][1])\n",
    "\n",
    "    im = im2.crop((min(x) , min(y), max(x) , max(y)))\n",
    "\n",
    "    im.save(\"ConvertedImg.png\")\n",
    "    # plt.imshow(im)\n",
    "    # img1 = Image.open('ConvertedImg.png')\n",
    "    # new_width = 32\n",
    "    # new_height = 32\n",
    "    # img2 = img1.resize((new_width, new_height), Image.ANTIALIAS)\n",
    "    # img2.save('ConvertedImg.png')\n",
    "\n",
    "\n",
    "    # code for prediction\n",
    "\n",
    "    img = cv2.imread(\"ConvertedImg.png\")\n",
    "    img = cv2.resize(img,(150,150))\n",
    "    img = np.reshape(img,[1,150,150,3])\n",
    "    predict(img)\n",
    "    \n",
    "def predict(img):\n",
    "\n",
    "    classes = model.predict_classes(img)\n",
    "\n",
    "    dict[str(classes)]\n",
    "    \n",
    "if __name__ == \"__main__\":\n",
    "    main()"
   ]
  },
  {
   "cell_type": "markdown",
   "metadata": {},
   "source": [
    "# "
   ]
  },
  {
   "cell_type": "code",
   "execution_count": null,
   "metadata": {
    "collapsed": true
   },
   "outputs": [],
   "source": []
  },
  {
   "cell_type": "code",
   "execution_count": null,
   "metadata": {
    "collapsed": true
   },
   "outputs": [],
   "source": []
  },
  {
   "cell_type": "code",
   "execution_count": 66,
   "metadata": {},
   "outputs": [
    {
     "data": {
      "text/plain": [
       "'र'"
      ]
     },
     "execution_count": 66,
     "metadata": {},
     "output_type": "execute_result"
    }
   ],
   "source": []
  },
  {
   "cell_type": "code",
   "execution_count": null,
   "metadata": {
    "collapsed": true
   },
   "outputs": [],
   "source": []
  },
  {
   "cell_type": "code",
   "execution_count": 3,
   "metadata": {},
   "outputs": [
    {
     "ename": "FileNotFoundError",
     "evalue": "[Errno 2] No such file or directory: 'image.png'",
     "output_type": "error",
     "traceback": [
      "\u001b[1;31m---------------------------------------------------------------------------\u001b[0m",
      "\u001b[1;31mFileNotFoundError\u001b[0m                         Traceback (most recent call last)",
      "\u001b[1;32m<ipython-input-3-20a4f90f2239>\u001b[0m in \u001b[0;36m<module>\u001b[1;34m()\u001b[0m\n\u001b[0;32m      3\u001b[0m \u001b[0mget_ipython\u001b[0m\u001b[1;33m(\u001b[0m\u001b[1;33m)\u001b[0m\u001b[1;33m.\u001b[0m\u001b[0mrun_line_magic\u001b[0m\u001b[1;33m(\u001b[0m\u001b[1;34m'matplotlib'\u001b[0m\u001b[1;33m,\u001b[0m \u001b[1;34m'inline'\u001b[0m\u001b[1;33m)\u001b[0m\u001b[1;33m\u001b[0m\u001b[0m\n\u001b[0;32m      4\u001b[0m \u001b[1;33m\u001b[0m\u001b[0m\n\u001b[1;32m----> 5\u001b[1;33m \u001b[0mim\u001b[0m \u001b[1;33m=\u001b[0m \u001b[0mImage\u001b[0m\u001b[1;33m.\u001b[0m\u001b[0mopen\u001b[0m\u001b[1;33m(\u001b[0m\u001b[1;34m\"image.png\"\u001b[0m\u001b[1;33m)\u001b[0m\u001b[1;33m\u001b[0m\u001b[0m\n\u001b[0m\u001b[0;32m      6\u001b[0m \u001b[1;33m\u001b[0m\u001b[0m\n\u001b[0;32m      7\u001b[0m \u001b[0mplt\u001b[0m\u001b[1;33m.\u001b[0m\u001b[0mimshow\u001b[0m\u001b[1;33m(\u001b[0m\u001b[0mim\u001b[0m\u001b[1;33m)\u001b[0m\u001b[1;33m\u001b[0m\u001b[0m\n",
      "\u001b[1;32m~\\Anaconda3\\lib\\site-packages\\PIL\\Image.py\u001b[0m in \u001b[0;36mopen\u001b[1;34m(fp, mode)\u001b[0m\n\u001b[0;32m   2541\u001b[0m \u001b[1;33m\u001b[0m\u001b[0m\n\u001b[0;32m   2542\u001b[0m     \u001b[1;32mif\u001b[0m \u001b[0mfilename\u001b[0m\u001b[1;33m:\u001b[0m\u001b[1;33m\u001b[0m\u001b[0m\n\u001b[1;32m-> 2543\u001b[1;33m         \u001b[0mfp\u001b[0m \u001b[1;33m=\u001b[0m \u001b[0mbuiltins\u001b[0m\u001b[1;33m.\u001b[0m\u001b[0mopen\u001b[0m\u001b[1;33m(\u001b[0m\u001b[0mfilename\u001b[0m\u001b[1;33m,\u001b[0m \u001b[1;34m\"rb\"\u001b[0m\u001b[1;33m)\u001b[0m\u001b[1;33m\u001b[0m\u001b[0m\n\u001b[0m\u001b[0;32m   2544\u001b[0m         \u001b[0mexclusive_fp\u001b[0m \u001b[1;33m=\u001b[0m \u001b[1;32mTrue\u001b[0m\u001b[1;33m\u001b[0m\u001b[0m\n\u001b[0;32m   2545\u001b[0m \u001b[1;33m\u001b[0m\u001b[0m\n",
      "\u001b[1;31mFileNotFoundError\u001b[0m: [Errno 2] No such file or directory: 'image.png'"
     ]
    }
   ],
   "source": [
    "from PIL import Image\n",
    "from matplotlib import pyplot as plt\n",
    "%matplotlib inline\n",
    "\n",
    "im = Image.open(\"image.png\")\n",
    "\n",
    "plt.imshow(im)"
   ]
  },
  {
   "cell_type": "code",
   "execution_count": 36,
   "metadata": {},
   "outputs": [
    {
     "data": {
      "text/plain": [
       "(255, 255, 255)"
      ]
     },
     "execution_count": 36,
     "metadata": {},
     "output_type": "execute_result"
    }
   ],
   "source": [
    "px = im.load()\n",
    "\n",
    "px[10,20]"
   ]
  },
  {
   "cell_type": "code",
   "execution_count": null,
   "metadata": {},
   "outputs": [],
   "source": [
    "width, height = im.size\n",
    "px = im.load()\n",
    "for i in range(width):\n",
    "    for j in range(height):\n",
    "        if ( px[i,j] < (150,150,150) ):\n",
    "            px[i,j] = (255, 255, 255)\n",
    "        elif ( px[i,j] > (150,150,150) ):\n",
    "            px[i,j] = (0,0,0)\n",
    "            \n",
    "im.save(\"ConvertedImg.png\", \"PNG\")"
   ]
  },
  {
   "cell_type": "code",
   "execution_count": null,
   "metadata": {},
   "outputs": [],
   "source": [
    "im = Image.open(\"ConvertedImg.png\")\n",
    "\n",
    "plt.imshow(im)"
   ]
  },
  {
   "cell_type": "code",
   "execution_count": null,
   "metadata": {},
   "outputs": [],
   "source": [
    "import cv2\n",
    "import numpy as np\n",
    "\n",
    "\n",
    "img = cv2.imread('ConvertedImg.png')\n",
    "img = cv2.resize(img,(150,150))\n",
    "img = np.reshape(img,[1,150,150,3])\n"
   ]
  },
  {
   "cell_type": "code",
   "execution_count": 11,
   "metadata": {},
   "outputs": [
    {
     "name": "stderr",
     "output_type": "stream",
     "text": [
      "Using TensorFlow backend.\n"
     ]
    }
   ],
   "source": [
    "from keras.models import load_model\n",
    "import cv2\n",
    "import numpy as np\n",
    "model = load_model('final_mod\n",
    "el.hs')\n",
    "\n",
    "model.compile(loss='categorical_crossentropy',\n",
    "              optimizer='sgd',\n",
    "              metrics=['accuracy'])\n"
   ]
  },
  {
   "cell_type": "code",
   "execution_count": null,
   "metadata": {},
   "outputs": [],
   "source": []
  },
  {
   "cell_type": "code",
   "execution_count": null,
   "metadata": {
    "collapsed": true
   },
   "outputs": [],
   "source": []
  }
 ],
 "metadata": {
  "kernelspec": {
   "display_name": "Python 3",
   "language": "python",
   "name": "python3"
  },
  "language_info": {
   "codemirror_mode": {
    "name": "ipython",
    "version": 3
   },
   "file_extension": ".py",
   "mimetype": "text/x-python",
   "name": "python",
   "nbconvert_exporter": "python",
   "pygments_lexer": "ipython3",
   "version": "3.6.4"
  }
 },
 "nbformat": 4,
 "nbformat_minor": 2
}
